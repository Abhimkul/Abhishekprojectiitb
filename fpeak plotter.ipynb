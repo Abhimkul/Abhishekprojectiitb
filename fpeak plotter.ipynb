{
 "cells": [
  {
   "cell_type": "code",
   "execution_count": 2,
   "id": "1e45a789-06b3-4292-bea9-9dc5f4b7151a",
   "metadata": {},
   "outputs": [
    {
     "data": {
      "text/plain": [
       "([1.1601715254872011, 1.3082874372547777, 1.3082874372547777],\n",
       " [3.066044170593882, 3.3788454312167495, 3.4022297371187227])"
      ]
     },
     "execution_count": 2,
     "metadata": {},
     "output_type": "execute_result"
    }
   ],
   "source": [
    "#Importing the libraries\n",
    "import numpy as np\n",
    "import matplotlib.pyplot as plot \n",
    "import scipy\n",
    "from scipy.optimize import curve_fit\n",
    "import pandas as pd\n",
    "\n",
    "#Units conversion from geometrical units\n",
    "G = 6.67*10**(-11)\n",
    "c = 3*10**8\n",
    "k = (c**2)/G\n",
    "k1 = (((10**-3))/(k*(1.98*10**30)))\n",
    "\n",
    "#loading the data\n",
    "df = pd.read_csv(\"data from plotanalyser.csv\")\n",
    "\n",
    "#Converting the data fromm \n",
    "fpeak  = df['fpeak'].to_numpy()\n",
    "m_Xaxis = (df[\"(M/R^3)^1/2\"].to_numpy())\n",
    "fpeak , m_Xaxis\n",
    "\n",
    "#Curve fit\n",
    "def function(m_Xaxis , a ,b):\n",
    "    return a*m_Xaxis + b\n",
    "coeffs, cov = curve_fit(function,m_Xaxis,fpeak)\n",
    "A,B = coeffs\n",
    "\n",
    "#Defining the Mtot\n",
    "def Mtot1(m1,m2):\n",
    "   return m1+m2\n",
    "m1 = [1.2,1.2,1.35]\n",
    "m2 = [1.2,1.5,1.35]\n",
    "Mtot = [1.4,1.7,1.7]\n",
    "Mtot_f = []\n",
    "X = []\n",
    "for i in Mtot:\n",
    "   Mtot_f.append((i*1.470588))#Scaling factor\n",
    "   X.append(((i*1.470588)/(9.90)**3)**0.5)#Scaling factor)\n",
    "\n",
    "##Defining the EoS## Apr: = 9.90km \n",
    "def formula(Mtot1 , Rmax):\n",
    "   return (38.24889509836317)*((Mtot1/(Rmax)**3)**0.5) - 0.2927097279270208\n",
    "    \n",
    "\n",
    "fpeak1 = []\n",
    "\n",
    "#Defining the EoS ## Apr: Rmax = 9.90\n",
    "for i in Mtot:\n",
    " fpeak1.append(formula(Mtot1 = i, Rmax = 9.90))\n",
    "\n",
    "\n",
    "#fpeak from Vretinaris numerical simulation paper (R_1.6)\n",
    "def Mchirp1(m1,m2):\n",
    "    return ((m1*m2))**(3/5)/((m1+m2)**(1/5))\n",
    "\n",
    "def empirical_relation(Mchirp,R):\n",
    "    b0 = 1.5220\n",
    "    b1 = 8.4021\n",
    "    b2 = 2.3876\n",
    "    b3 = -1.1133\n",
    "    b4 = -0.1291\n",
    "    b5 = 0.0366\n",
    "    return b0 + b1*(Mchirp) + b2*(Mchirp**2) + b3*(Mchirp*R) + b4*((Mchirp**2)*R) + b5*(Mchirp*(R**2))\n",
    "\n",
    "#Defining the Mchirp\n",
    "m1 = [1.2,1.2,1.35]\n",
    "m2 = [1.2,1.5,1.35]\n",
    "Mchirp2 = [1.0446, 1.1665, 1.1752]\n",
    "# for i in m1:\n",
    "#     for j in m2:\n",
    "#        Mchirp2.append(Mchirp1(m1 = i ,m2 = j))\n",
    "#Mchirp2 = np.linspace(0.1,1.8,20)\n",
    "\n",
    "##EoS APR:R_1.6 = 11.27km\n",
    "fpeak2 = []\n",
    "for i in Mchirp2:\n",
    "  fpeak2.append(empirical_relation( Mchirp = i ,R = 11.27))\n",
    "\n",
    "fpeak1,fpeak2"
   ]
  },
  {
   "cell_type": "code",
   "execution_count": 3,
   "id": "8e090c18-a636-4d47-9d83-b2717c1ab456",
   "metadata": {},
   "outputs": [
    {
     "data": {
      "text/plain": [
       "(1.044660675955349, 1.166516134976123, 1.1752432604497676)"
      ]
     },
     "execution_count": 3,
     "metadata": {},
     "output_type": "execute_result"
    }
   ],
   "source": [
    "Mchirp1(1.2,1.2), Mchirp1(1.2,1.5), Mchirp1(1.35,1.35)"
   ]
  }
 ],
 "metadata": {
  "kernelspec": {
   "display_name": "Python 3 (ipykernel)",
   "language": "python",
   "name": "python3"
  },
  "language_info": {
   "codemirror_mode": {
    "name": "ipython",
    "version": 3
   },
   "file_extension": ".py",
   "mimetype": "text/x-python",
   "name": "python",
   "nbconvert_exporter": "python",
   "pygments_lexer": "ipython3",
   "version": "3.11.5"
  }
 },
 "nbformat": 4,
 "nbformat_minor": 5
}
