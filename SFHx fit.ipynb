{
 "cells": [
  {
   "cell_type": "code",
   "execution_count": 2,
   "metadata": {},
   "outputs": [],
   "source": [
    "import numpy as np\n",
    "import scipy \n",
    "from scipy.optimize import curve_fit"
   ]
  },
  {
   "cell_type": "code",
   "execution_count": 40,
   "metadata": {},
   "outputs": [
    {
     "data": {
      "text/plain": [
       "array([ 0.641057  ,  1.36213719, -0.44865128,  0.93211356,  1.79441466,\n",
       "        8.45999722])"
      ]
     },
     "execution_count": 40,
     "metadata": {},
     "output_type": "execute_result"
    }
   ],
   "source": [
    "#Taking the random data\n",
    "\n",
    "d3 = 5511\n",
    "\n",
    "def Curve_fit(d, d1, d2, k1, GA1, GA2, GA3):\n",
    "    k2 = k1 * d1**(GA1 - GA2)\n",
    "    k3 = k2 * d2**(GA2 - GA3)\n",
    "    condition1 = (100 < d) & (d <= d1)\n",
    "    condition2 = (d1 <= d) & (d <= d2)\n",
    "    condition3 = (d1 <= d) & (d < d3)\n",
    "    condition = [condition1, condition2, condition3]\n",
    "    function_list = [lambda d: k1 * (d**(1 / GA1)), lambda d: k2 * (d**(1 / GA2)), lambda d: k3 * (d**(1 / GA3))]\n",
    "    P = np.piecewise(d, condition, function_list)\n",
    "    return P\n",
    "\n",
    "x = np.random.randn(10)\n",
    "y = np.random.randn(10)\n",
    "\n",
    "# Curve fitting\n",
    "coeffs, cov = curve_fit(Curve_fit, x, y)\n",
    "\n",
    "coeffs"
   ]
  },
  {
   "cell_type": "code",
   "execution_count": 36,
   "metadata": {},
   "outputs": [
    {
     "data": {
      "text/plain": [
       "1058841"
      ]
     },
     "execution_count": 36,
     "metadata": {},
     "output_type": "execute_result"
    }
   ],
   "source": [
    "f = lambda x: x**2\n",
    "\n",
    "f(1029)"
   ]
  }
 ],
 "metadata": {
  "kernelspec": {
   "display_name": "base",
   "language": "python",
   "name": "python3"
  },
  "language_info": {
   "codemirror_mode": {
    "name": "ipython",
    "version": 3
   },
   "file_extension": ".py",
   "mimetype": "text/x-python",
   "name": "python",
   "nbconvert_exporter": "python",
   "pygments_lexer": "ipython3",
   "version": "3.9.7"
  }
 },
 "nbformat": 4,
 "nbformat_minor": 2
}
