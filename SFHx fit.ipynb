{
 "cells": [
  {
   "cell_type": "code",
   "execution_count": 48,
   "metadata": {},
   "outputs": [],
   "source": [
    "import numpy as np\n",
    "import pandas as pd\n",
    "import matplotlib.pyplot as plot\n",
    "from  scipy.optimize import curve_fit\n",
    "from  scipy.optimize import minimize\n",
    "from functools import partial"
   ]
  },
  {
   "cell_type": "code",
   "execution_count": 49,
   "metadata": {},
   "outputs": [
    {
     "data": {
      "text/html": [
       "<div>\n",
       "<style scoped>\n",
       "    .dataframe tbody tr th:only-of-type {\n",
       "        vertical-align: middle;\n",
       "    }\n",
       "\n",
       "    .dataframe tbody tr th {\n",
       "        vertical-align: top;\n",
       "    }\n",
       "\n",
       "    .dataframe thead th {\n",
       "        text-align: right;\n",
       "    }\n",
       "</style>\n",
       "<table border=\"1\" class=\"dataframe\">\n",
       "  <thead>\n",
       "    <tr style=\"text-align: right;\">\n",
       "      <th></th>\n",
       "      <th>energy</th>\n",
       "      <th>Pressure</th>\n",
       "    </tr>\n",
       "  </thead>\n",
       "  <tbody>\n",
       "    <tr>\n",
       "      <th>0</th>\n",
       "      <td>146.502707</td>\n",
       "      <td>0.991250</td>\n",
       "    </tr>\n",
       "    <tr>\n",
       "      <th>1</th>\n",
       "      <td>149.272780</td>\n",
       "      <td>1.101501</td>\n",
       "    </tr>\n",
       "    <tr>\n",
       "      <th>2</th>\n",
       "      <td>152.677989</td>\n",
       "      <td>1.192164</td>\n",
       "    </tr>\n",
       "    <tr>\n",
       "      <th>3</th>\n",
       "      <td>154.982229</td>\n",
       "      <td>1.301679</td>\n",
       "    </tr>\n",
       "    <tr>\n",
       "      <th>4</th>\n",
       "      <td>157.917191</td>\n",
       "      <td>1.421254</td>\n",
       "    </tr>\n",
       "    <tr>\n",
       "      <th>...</th>\n",
       "      <td>...</td>\n",
       "      <td>...</td>\n",
       "    </tr>\n",
       "    <tr>\n",
       "      <th>102</th>\n",
       "      <td>2543.137455</td>\n",
       "      <td>1336.454564</td>\n",
       "    </tr>\n",
       "    <tr>\n",
       "      <th>103</th>\n",
       "      <td>2640.941972</td>\n",
       "      <td>1396.491086</td>\n",
       "    </tr>\n",
       "    <tr>\n",
       "      <th>104</th>\n",
       "      <td>2752.896728</td>\n",
       "      <td>1459.224583</td>\n",
       "    </tr>\n",
       "    <tr>\n",
       "      <th>105</th>\n",
       "      <td>2837.273092</td>\n",
       "      <td>1511.434437</td>\n",
       "    </tr>\n",
       "    <tr>\n",
       "      <th>106</th>\n",
       "      <td>2946.389540</td>\n",
       "      <td>1579.331445</td>\n",
       "    </tr>\n",
       "  </tbody>\n",
       "</table>\n",
       "<p>107 rows × 2 columns</p>\n",
       "</div>"
      ],
      "text/plain": [
       "         energy      Pressure\n",
       "0     146.502707     0.991250\n",
       "1     149.272780     1.101501\n",
       "2     152.677989     1.192164\n",
       "3     154.982229     1.301679\n",
       "4     157.917191     1.421254\n",
       "..           ...          ...\n",
       "102  2543.137455  1336.454564\n",
       "103  2640.941972  1396.491086\n",
       "104  2752.896728  1459.224583\n",
       "105  2837.273092  1511.434437\n",
       "106  2946.389540  1579.331445\n",
       "\n",
       "[107 rows x 2 columns]"
      ]
     },
     "execution_count": 49,
     "metadata": {},
     "output_type": "execute_result"
    }
   ],
   "source": [
    "df = pd.read_csv(r\"C:\\Users\\Abhimkul\\Downloads\\SFHx)_Data_points\")\n",
    "energy = df.iloc[:,0].to_numpy()\n",
    "Pressure = df.iloc[:,1].to_numpy()\n",
    "df"
   ]
  },
  {
   "cell_type": "code",
   "execution_count": 54,
   "metadata": {},
   "outputs": [
    {
     "name": "stderr",
     "output_type": "stream",
     "text": [
      "C:\\Users\\Abhimkul\\AppData\\Local\\Temp/ipykernel_21820/1083130704.py:9: RuntimeWarning: invalid value encountered in double_scalars\n",
      "  k3 = p2/((p2/k2)**(1/GA2) + p2/(GA2-1) - p2/(GA3-1))**GA3\n"
     ]
    },
    {
     "data": {
      "text/plain": [
       "Text(0.5, 1.0, 'SFHx Poltrope fit')"
      ]
     },
     "execution_count": 54,
     "metadata": {},
     "output_type": "execute_result"
    },
    {
     "data": {
      "image/png": "[encoded data removed]",
      "text/plain": [
       "<Figure size 432x288 with 1 Axes>"
      ]
     },
     "metadata": {
      "needs_background": "light"
     },
     "output_type": "display_data"
    }
   ],
   "source": [
    "##Fitting using scipy.opitimize.minimize\n",
    "\n",
    "p3 = 1579.331445\n",
    "p0_1 = 0.991250 \n",
    "\n",
    "def Curve_fit_polytrope(p, p1, p2, k1, GA1, GA2, GA3):\n",
    "    \n",
    "    k2 = p1/((p1/k1)**(1/GA1) + p1/(GA1-1) - p1/(GA2-1))**GA2\n",
    "    k3 = p2/((p2/k2)**(1/GA2) + p2/(GA2-1) - p2/(GA3-1))**GA3\n",
    "\n",
    "    condition1 = (p < p1)\n",
    "    condition2 = (p >= p1) & (p < p2)\n",
    "    condition3 = (p >= p2) \n",
    "    condition = [condition1, condition2, condition3]\n",
    "    Polytrope1 = lambda p: (p/k1)**(1/GA1) + (p/(GA1-1))\n",
    "    Polytrope2 = lambda p: (p/k2)**(1/GA2) + (p/(GA2-1))\n",
    "    Polytrope3 = lambda p: (p/k3)**(1/GA3) + (p/(GA3-1))\n",
    "    function_list = [Polytrope1 , Polytrope2 , Polytrope3]\n",
    "    d = (np.piecewise(p, condition, function_list))\n",
    "    \n",
    "    return (d)\n",
    "\n",
    "\n",
    "def driver_func(p,pdata,edata):\n",
    "    energy_fit = Curve_fit_polytrope(pdata ,*p)\n",
    "    energy_err = (np.sum(energy_fit - edata)**2)/len(edata)\n",
    "    return energy_err\n",
    "\n",
    "\n",
    "#Fitting \n",
    "p0 = [90,1300,0.00000001,1.59,1.7,1.6]\n",
    "\n",
    "result = minimize(driver_func, p0, args=((Pressure), (energy)), method ='Nelder-Mead' )\n",
    "coeffs = result.x\n",
    "coeffs\n",
    "\n",
    "#Plotting\n",
    "plot.plot(energy,Pressure ,label = \"Actual\")\n",
    "plot.plot(Curve_fit_polytrope(Pressure,*coeffs),Pressure,  label = \"Fit\")\n",
    "plot.xscale(\"log\")\n",
    "plot.yscale(\"log\")\n",
    "plot.legend()\n",
    "plot.xlabel(\"Energy\") \n",
    "plot.ylabel(\"Pressure\")\n",
    "plot.title(\"SFHx Poltrope fit\")"
   ]
  },
  {
   "cell_type": "code",
   "execution_count": 55,
   "metadata": {},
   "outputs": [
    {
     "data": {
      "text/plain": [
       "array([5.49490219e+01, 8.13601224e+02, 4.80277404e-09, 3.85992626e+00,\n",
       "       2.62551522e+00, 1.52897461e+00])"
      ]
     },
     "execution_count": 55,
     "metadata": {},
     "output_type": "execute_result"
    }
   ],
   "source": [
    "#Values of Coefficient \n",
    "coeffs"
   ]
  }
 ],
 "metadata": {
  "kernelspec": {
   "display_name": "base",
   "language": "python",
   "name": "python3"
  },
  "language_info": {
   "codemirror_mode": {
    "name": "ipython",
    "version": 3
   },
   "file_extension": ".py",
   "mimetype": "text/x-python",
   "name": "python",
   "nbconvert_exporter": "python",
   "pygments_lexer": "ipython3",
   "version": "3.9.7"
  }
 },
 "nbformat": 4,
 "nbformat_minor": 2
}
