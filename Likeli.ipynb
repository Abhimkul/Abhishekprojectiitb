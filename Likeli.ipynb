{
 "cells": [
  {
   "cell_type": "code",
   "execution_count": 6,
   "metadata": {},
   "outputs": [],
   "source": [
    "#Units\n",
    "MeV = 1 \n",
    "GeV = 1000*MeV\n",
    "fm  = 1\n",
    "c   = 1\n",
    "metres = (10**15)*fm\n",
    "km = 1000*metres\n",
    "second = 2.99*(10**8)*metres\n",
    "kg = (second**2)/((1.6*(10**(-13)))*((metres)**2))\n",
    "G = 6.67*10**(-11)*((metres)**3)/(kg*(second)**2)\n",
    "mbar = 1.66*(10**-27)*kg"
   ]
  },
  {
   "cell_type": "code",
   "execution_count": 7,
   "metadata": {},
   "outputs": [],
   "source": [
    "import numpy as np\n",
    "import scipy\n",
    "import matplotlib.pyplot as plot\n",
    "import math\n",
    "from scipy.integrate import odeint\n",
    "from scipy.stats import uniform"
   ]
  },
  {
   "cell_type": "code",
   "execution_count": 121,
   "metadata": {},
   "outputs": [],
   "source": [
    "def piecewise_polytrope_SFHx(p, p1, p2, k1, GA1, GA2, GA3):\n",
    "    \n",
    "    k2 = p1/((p1/k1)**(1/GA1) + p1/(GA1-1) - p1/(GA2-1))**GA2\n",
    "    k3 = p2/((p2/k2)**(1/GA2) + p2/(GA2-1) - p2/(GA3-1))**GA3\n",
    "\n",
    "    condition1 = (p < p1)\n",
    "    condition2 = (p >= p1) & (p < p2)\n",
    "    condition3 = (p >= p2) \n",
    "    condition = [condition1, condition2, condition3]\n",
    "    Polytrope1 = lambda p: mbar*(p/k1)**(1/GA1) + (p/(GA1-1))\n",
    "    Polytrope2 = lambda p: mbar*(p/k2)**(1/GA2) + (p/(GA2-1))\n",
    "    Polytrope3 = lambda p: mbar*(p/k3)**(1/GA3) + (p/(GA3-1))\n",
    "    function_list = [Polytrope1 , Polytrope2 , Polytrope3]\n",
    "    d = (np.piecewise(p, condition, function_list))\n",
    "    \n",
    "    return (d)"
   ]
  },
  {
   "cell_type": "code",
   "execution_count": 122,
   "metadata": {},
   "outputs": [],
   "source": [
    "#SFHx\n",
    "dp = 10**-12\n",
    "mbar = 1.66*(10**-27)*kg\n",
    "pi = math.pi\n",
    "Rs = ((2*G*(1.98847*(10**30)*kg))/((c**2)))\n",
    "K1 =  ((4*pi*(Rs**3))/(1.98847*((10**30)*kg)*(c**2)))*(GeV/(fm)**3)\n",
    "\n",
    "class TOV_Solver:\n",
    "    def __init__(self,Pc,p1,p2,k1,GA1,GA2,GA3):\n",
    "        self.Pc = Pc\n",
    "        self.p1 = p1\n",
    "        self.p2 = p2\n",
    "        self.k1 = k1\n",
    "        self.GA1 = GA1\n",
    "        self.GA2 = GA2\n",
    "        self.GA3 = GA3\n",
    "        \n",
    "    def R0(self,Pc,k,GA):\n",
    "            dc = (mbar*(self.Pc*(GeV)/k)**(1/GA) + (self.Pc*(GeV)/(GA - 1)))/(GeV)\n",
    "            P = self.Pc - dp \n",
    "            d = (mbar*(P*GeV/k)**(1/GA) +(P*GeV/(GA - 1)))/GeV\n",
    "            nc = (((self.Pc*GeV)/k)**(1/GA))/GeV\n",
    "            n = (((P*GeV)/k)**(1/GA))/GeV\n",
    "            return  (((3/(2*pi*(3*self.Pc + dc)))*((math.log((dc + self.Pc)*n) - ((math.log((d + P)*nc)))))))**(0.5)\n",
    "\n",
    "    def M0(self,Pc,k,GA):\n",
    "            dc = (mbar*(self.Pc*(GeV)/k)**(1/GA) + (self.Pc*(GeV)/(GA - 1)))/(GeV)\n",
    "            P = self.Pc - dp\n",
    "            d = (mbar*(P*GeV/k)**(1/GA) +(P*GeV/(GA - 1)))/GeV\n",
    "            nc = (((self.Pc*GeV)/k)**(1/GA))/GeV\n",
    "            n = (((P*GeV)/k)**(1/GA))/GeV\n",
    "            return ((((((math.log((dc + self.Pc)*n) - ((math.log((d + P)*nc)))))*(2*dc/(3*self.Pc + dc))))))*self.R0(self.Pc,k,GA)\n",
    "    \n",
    "        \n",
    "    def f(self,x,P):\n",
    "        m,r = x\n",
    "        d = piecewise_polytrope_SFHx(P,self.p1,self.p2,self.k1,self.GA1,self.GA2,self.GA3)/GeV\n",
    "        dmdp = -(2*K1*(r**3)*d*(r-m))/((d + P)*(m + K1*P*(r**3)))\n",
    "        drdp = -(2*r*(r - m))/((d + P)*(m + K1*P*(r**3)))\n",
    "        return [dmdp , drdp]  \n",
    "            \n",
    "            \n",
    "    def compute_MR(self):\n",
    "        k2 = self.p1/((self.p1/self.k1)**(1/self.GA1) + self.p1/(self.GA1-1) - self.p1/(self.GA2-1))**self.GA2\n",
    "        k3 = self.p2/((self.p2/k2)**(1/self.GA2) + self.p2/(self.GA2-1) - self.p2/(self.GA3-1))**self.GA3\n",
    "        if self.Pc < self.p1:\n",
    "            Ro =  self.R0(Pc = self.Pc/GeV ,k =self.k1, GA = self.GA1)\n",
    "            Mo =  self.M0(Pc = self.Pc/GeV, k =self.k1, GA = self.GA1)\n",
    "\n",
    "        elif (self.Pc >= self.p1) & (self.Pc < self.p2):\n",
    "            Ro =  self.R0(Pc = self.Pc/GeV , k =k2, GA = self.GA2)\n",
    "            Mo =  self.M0(Pc = self.Pc/GeV , k =k2, GA = self.GA2)\n",
    "        \n",
    "        elif (self.Pc >= self.p2):\n",
    "            Ro =  self.R0(Pc = self.Pc/GeV , k =k3, GA = self.GA3)\n",
    "            Mo =  self.M0(Pc = self.Pc/GeV , k =k3, GA = self.GA3)\n",
    "\n",
    "        R = []\n",
    "        M = []\n",
    "        x_i = [Mo,Ro]\n",
    "                         \n",
    "        P0 = self.Pc/GeV - dp\n",
    "            \n",
    "        P1 = np.linspace(1e-12, P0, 1000)\n",
    "        solve = odeint(self.f,x_i, P1[::-1])\n",
    "                          \n",
    "        m = solve[:,0]\n",
    "        r = solve[:,1]\n",
    "\n",
    "        M = (m[-1])\n",
    "        R = (r[-1])*(Rs/km)\n",
    "        return \"M:\",M ,\"R:\" ,R "
   ]
  },
  {
   "cell_type": "code",
   "execution_count": 159,
   "metadata": {},
   "outputs": [
    {
     "data": {
      "text/plain": [
       "('M:', 1.223686823296e-311, 'R:', 3.6308037864856e-311)"
      ]
     },
     "execution_count": 159,
     "metadata": {},
     "output_type": "execute_result"
    }
   ],
   "source": [
    "A = TOV_Solver(Pc =10, p1 = 6.32840085e+01,  p2 = 5.99723682e+02, k1 = 4.47200261e-09,GA1 = 3.88632843e+00, GA2 = 2.71342162e+00, GA3 = 1.53107396e+00)\n",
    "A.compute_MR()"
   ]
  },
  {
   "cell_type": "code",
   "execution_count": null,
   "metadata": {},
   "outputs": [],
   "source": []
  }
 ],
 "metadata": {
  "kernelspec": {
   "display_name": "base",
   "language": "python",
   "name": "python3"
  },
  "language_info": {
   "codemirror_mode": {
    "name": "ipython",
    "version": 3
   },
   "file_extension": ".py",
   "mimetype": "text/x-python",
   "name": "python",
   "nbconvert_exporter": "python",
   "pygments_lexer": "ipython3",
   "version": "3.9.7"
  }
 },
 "nbformat": 4,
 "nbformat_minor": 2
}
