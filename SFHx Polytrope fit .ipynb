{
 "cells": [
  {
   "cell_type": "code",
   "execution_count": 385,
   "id": "0ca75655",
   "metadata": {},
   "outputs": [],
   "source": [
    "import numpy as np\n",
    "import pandas as pd\n",
    "import matplotlib.pyplot as plot\n",
    "from  scipy.optimize import curve_fit"
   ]
  },
  {
   "cell_type": "code",
   "execution_count": 386,
   "id": "7f8f399a",
   "metadata": {},
   "outputs": [
    {
     "data": {
      "text/html": [
       "<div>\n",
       "<style scoped>\n",
       "    .dataframe tbody tr th:only-of-type {\n",
       "        vertical-align: middle;\n",
       "    }\n",
       "\n",
       "    .dataframe tbody tr th {\n",
       "        vertical-align: top;\n",
       "    }\n",
       "\n",
       "    .dataframe thead th {\n",
       "        text-align: right;\n",
       "    }\n",
       "</style>\n",
       "<table border=\"1\" class=\"dataframe\">\n",
       "  <thead>\n",
       "    <tr style=\"text-align: right;\">\n",
       "      <th></th>\n",
       "      <th>energy</th>\n",
       "      <th>Pressure</th>\n",
       "    </tr>\n",
       "  </thead>\n",
       "  <tbody>\n",
       "    <tr>\n",
       "      <th>0</th>\n",
       "      <td>146.502707</td>\n",
       "      <td>0.991250</td>\n",
       "    </tr>\n",
       "    <tr>\n",
       "      <th>1</th>\n",
       "      <td>149.272780</td>\n",
       "      <td>1.101501</td>\n",
       "    </tr>\n",
       "    <tr>\n",
       "      <th>2</th>\n",
       "      <td>152.677989</td>\n",
       "      <td>1.192164</td>\n",
       "    </tr>\n",
       "    <tr>\n",
       "      <th>3</th>\n",
       "      <td>154.982229</td>\n",
       "      <td>1.301679</td>\n",
       "    </tr>\n",
       "    <tr>\n",
       "      <th>4</th>\n",
       "      <td>157.917191</td>\n",
       "      <td>1.421254</td>\n",
       "    </tr>\n",
       "    <tr>\n",
       "      <th>...</th>\n",
       "      <td>...</td>\n",
       "      <td>...</td>\n",
       "    </tr>\n",
       "    <tr>\n",
       "      <th>102</th>\n",
       "      <td>2543.137455</td>\n",
       "      <td>1336.454564</td>\n",
       "    </tr>\n",
       "    <tr>\n",
       "      <th>103</th>\n",
       "      <td>2640.941972</td>\n",
       "      <td>1396.491086</td>\n",
       "    </tr>\n",
       "    <tr>\n",
       "      <th>104</th>\n",
       "      <td>2752.896728</td>\n",
       "      <td>1459.224583</td>\n",
       "    </tr>\n",
       "    <tr>\n",
       "      <th>105</th>\n",
       "      <td>2837.273092</td>\n",
       "      <td>1511.434437</td>\n",
       "    </tr>\n",
       "    <tr>\n",
       "      <th>106</th>\n",
       "      <td>2946.389540</td>\n",
       "      <td>1579.331445</td>\n",
       "    </tr>\n",
       "  </tbody>\n",
       "</table>\n",
       "<p>107 rows × 2 columns</p>\n",
       "</div>"
      ],
      "text/plain": [
       "         energy      Pressure\n",
       "0     146.502707     0.991250\n",
       "1     149.272780     1.101501\n",
       "2     152.677989     1.192164\n",
       "3     154.982229     1.301679\n",
       "4     157.917191     1.421254\n",
       "..           ...          ...\n",
       "102  2543.137455  1336.454564\n",
       "103  2640.941972  1396.491086\n",
       "104  2752.896728  1459.224583\n",
       "105  2837.273092  1511.434437\n",
       "106  2946.389540  1579.331445\n",
       "\n",
       "[107 rows x 2 columns]"
      ]
     },
     "execution_count": 386,
     "metadata": {},
     "output_type": "execute_result"
    }
   ],
   "source": [
    "df = pd.read_csv(\"SFHx)_Data_points\")\n",
    "energy = df.iloc[:,0].to_numpy()\n",
    "Pressure = df.iloc[:,1].to_numpy()\n",
    "df"
   ]
  },
  {
   "cell_type": "code",
   "execution_count": 387,
   "id": "1ff827b3",
   "metadata": {},
   "outputs": [
    {
     "data": {
      "text/plain": [
       "Text(0.5, 1.0, 'SFHx P vs e plot')"
      ]
     },
     "execution_count": 387,
     "metadata": {},
     "output_type": "execute_result"
    },
    {
     "data": {
      "image/png": "[encoded data removed]",
      "text/plain": [
       "<Figure size 640x480 with 1 Axes>"
      ]
     },
     "metadata": {},
     "output_type": "display_data"
    }
   ],
   "source": [
    "plot.plot(energy,Pressure)\n",
    "plot.xscale(\"log\")\n",
    "plot.yscale(\"log\") \n",
    "plot.xlabel(\"energy\")\n",
    "plot.ylabel(\"Pressure\")\n",
    "plot.title(\"SFHx P vs e plot\")"
   ]
  },
  {
   "cell_type": "code",
   "execution_count": 392,
   "id": "89b65d44",
   "metadata": {
    "scrolled": true
   },
   "outputs": [
    {
     "name": "stderr",
     "output_type": "stream",
     "text": [
      "/tmp/ipykernel_5202/1984920814.py:10: RuntimeWarning: invalid value encountered in scalar power\n",
      "  k3 = k2 * (d2**(GA2 - GA3))\n"
     ]
    },
    {
     "data": {
      "text/plain": [
       "array([1.79139338, 0.17964061, 3.73988303, 1.44709078, 0.67442508,\n",
       "       1.66132264])"
      ]
     },
     "execution_count": 392,
     "metadata": {},
     "output_type": "execute_result"
    }
   ],
   "source": [
    "#Taking the random data\n",
    "\n",
    "d3 = 2946.389540\n",
    "d0 = 146.502707\n",
    "\n",
    "\n",
    "\n",
    "def Curve_fit(d, d1, d2, k1, GA1, GA2, GA3):\n",
    "    k2 = k1 * (d1**(GA1 - GA2))\n",
    "    k3 = k2 * (d2**(GA2 - GA3))\n",
    "    condition1 = (d0 < d) & (d <= d1)\n",
    "    condition2 = (d1 <= d) & (d <= d2)\n",
    "    condition3 = (d1 <= d) & (d < d3)\n",
    "    condition = [condition1, condition2, condition3]\n",
    "    function_list = [lambda d: k1 *(d**(1/GA1)), lambda d: k2 * (d**(1 / GA2)), lambda d: k3 * (d**(1 / GA3))]\n",
    "    P = np.piecewise(d, condition, function_list)\n",
    "    return P\n",
    "   \n",
    "\n",
    "# Curve fitting\n",
    "coeffs, cov = curve_fit(Curve_fit,x,y)\n",
    "\n",
    "coeffs"
   ]
  },
  {
   "cell_type": "code",
   "execution_count": 469,
   "id": "6b6d0fdc",
   "metadata": {},
   "outputs": [
    {
     "name": "stderr",
     "output_type": "stream",
     "text": [
      "/tmp/ipykernel_5202/4107121323.py:15: RuntimeWarning: invalid value encountered in scalar power\n",
      "  k3 = p2/((p2/k2)**(1/GA2) + p2/(GA2-1) - p2/(GA3-1))**GA3\n"
     ]
    },
    {
     "data": {
      "text/plain": [
       "array([10. , 40. ,  1.2,  1.3,  1.4,  1.2])"
      ]
     },
     "execution_count": 469,
     "metadata": {},
     "output_type": "execute_result"
    }
   ],
   "source": [
    "#Fit\n",
    "from functools import partial\n",
    "p3 = 1579.331445\n",
    "p0 = 0.991250 \n",
    "#def E_P()\n",
    "#def P_E()\n",
    "#def P_n()\n",
    "def polytrope_E_P(p, k, gamma):\n",
    "    return np.array([(_p/k)**(1/gamma) + (_p/(gamma-1)) for _p in p])\n",
    "\n",
    "#p1 = 2000 \n",
    "#p2 = 3000\n",
    "def Curve_fit_polytrope(p, p1, p2, k1, GA1, GA2, GA3):\n",
    "    k2 = p1/((p1/k1)**(1/GA1) + p1/(GA1-1) - p1/(GA2-1))**GA2\n",
    "    k3 = p2/((p2/k2)**(1/GA2) + p2/(GA2-1) - p2/(GA3-1))**GA3\n",
    "\n",
    "    condition1 = p < p1\n",
    "    condition2 = (p >= p1) & (p < p2)\n",
    "    condition3 = (p >= p2)\n",
    "    condition = [condition1, condition2, condition3]\n",
    "    #print(np.where(~condition1 & ~condition2), np.where(~condition2 & ~condition3), \n",
    "    #     np.where(~condition1 & ~condition3))\n",
    "    #assert 1==2\n",
    "    Polytrope1 = partial(polytrope_E_P, k=k1, gamma=GA1)#lambda p: (p/k1)**(1/GA1) + (p/(GA1-1))\n",
    "    Polytrope2 = partial(polytrope_E_P, k=k2, gamma=GA2)#lambda p: (p/k2)**(1/GA2) + (p/(GA2-1))\n",
    "    Polytrope3 = partial(polytrope_E_P, k=k3, gamma=GA3) #lambda p: (p/k3)**(1/GA3) + (p/(GA3-1))\n",
    "    function_list = [Polytrope1 , Polytrope2 , Polytrope3]\n",
    "    d = np.piecewise(p, condition, function_list)\n",
    "    if np.isnan(d).any() or (d<0).any():\n",
    "        return 10*np.ones_like(d)\n",
    "    return np.log(d)\n",
    "   \n",
    " \n",
    "y = np.log(energy)\n",
    "x = Pressure\n",
    "\n",
    "\n",
    "# Curve fitting;\n",
    "coeffs, cov = curve_fit(Curve_fit_polytrope,x,y,\n",
    "                                              p0 = [10, 40, 1.2, 1.3, 1.4, 1.2], method='trf')\n",
    "coeffs"
   ]
  },
  {
   "cell_type": "code",
   "execution_count": 466,
   "id": "a66645d4",
   "metadata": {},
   "outputs": [
    {
     "data": {
      "text/plain": [
       "[<matplotlib.lines.Line2D at 0x7f0af99d74c0>]"
      ]
     },
     "execution_count": 466,
     "metadata": {},
     "output_type": "execute_result"
    },
    {
     "data": {
      "image/png": "[encoded data removed]",
      "text/plain": [
       "<Figure size 640x480 with 1 Axes>"
      ]
     },
     "metadata": {},
     "output_type": "display_data"
    }
   ],
   "source": [
    "plot.plot(Curve_fit_polytrope(x, 10, 40, 1.2, 1.3, 1.4, 1.2))\n",
    "plot.plot(y)"
   ]
  },
  {
   "cell_type": "code",
   "execution_count": 467,
   "id": "ff18d018",
   "metadata": {},
   "outputs": [
    {
     "data": {
      "text/plain": [
       "{'fvec': array([5.0129561 , 4.99422463, 4.97166894, 4.95668954, 4.93792921,\n",
       "        4.91916888, 4.90042298, 4.88164822, 4.86288789, 4.84412756,\n",
       "        4.82536723, 4.76530532, 4.78784658, 4.80662134, 4.74654499,\n",
       "        4.72778466, 4.7090099 , 4.68646864, 4.66770831, 4.64516706,\n",
       "        4.6263923 , 4.60385104, 4.58130978, 4.55875409, 4.53997933,\n",
       "        4.51743808, 4.49489682, 4.47234113, 4.44979987, 4.42724418,\n",
       "        4.4046885 , 4.37836631, 4.35579619, 4.32947401, 4.30691832,\n",
       "        4.28436263, 4.25802601, 4.23170383, 4.20533835, 4.18279709,\n",
       "        4.15646048, 4.13012386, 4.10377281, 4.0774362 , 4.05108515,\n",
       "        4.02851503, 3.99841192, 3.96829437, 3.94573869, 3.91940207,\n",
       "        3.88925566, 3.86291905, 3.83278707, 3.80266953, 3.78008498,\n",
       "        3.749953  , 3.72361639, 3.69348441, 3.66335244, 3.63322046,\n",
       "        3.60307406, 3.57295651, 3.54281011, 3.51267813, 3.48253173,\n",
       "        3.45239975, 3.42226778, 3.38834044, 3.35442754, 3.32428113,\n",
       "        3.29036823, 3.26022182, 3.23006099, 3.19613365, 3.16220632,\n",
       "        3.12449806, 3.09811815, 3.06040989, 3.02270162, 2.99255522,\n",
       "        2.95859902, 2.92465726, 2.88694899, 2.84924073, 2.81906546,\n",
       "        2.78513813, 2.74740101, 2.70967831, 2.67195562, 2.63801386,\n",
       "        2.60407209, 2.56633497, 2.52861227, 2.49088958, 2.45315246,\n",
       "        2.41542976, 2.38147357, 2.34373644, 2.30601375, 2.27205756,\n",
       "        2.2305395 , 2.19658331, 2.15884618, 2.12110906, 2.07959101,\n",
       "        2.04940131, 2.01166418]),\n",
       " 'nfev': 7,\n",
       " 'fjac': array([[-0.,  0.,  0.,  0.,  0.,  0.,  0.,  0.,  0.,  0.,  0.,  0.,  0.,\n",
       "          0.,  0.,  0.,  0.,  0.,  0.,  0.,  0.,  0.,  0.,  0.,  0.,  0.,\n",
       "          0.,  0.,  0.,  0.,  0.,  0.,  0.,  0.,  0.,  0.,  0.,  0.,  0.,\n",
       "          0.,  0.,  0.,  0.,  0.,  0.,  0.,  0.,  0.,  0.,  0.,  0.,  0.,\n",
       "          0.,  0.,  0.,  0.,  0.,  0.,  0.,  0.,  0.,  0.,  0.,  0.,  0.,\n",
       "          0.,  0.,  0.,  0.,  0.,  0.,  0.,  0.,  0.,  0.,  0.,  0.,  0.,\n",
       "          0.,  0.,  0.,  0.,  0.,  0.,  0.,  0.,  0.,  0.,  0.,  0.,  0.,\n",
       "          0.,  0.,  0.,  0.,  0.,  0.,  0.,  0.,  0.,  0.,  0.,  0.,  0.,\n",
       "          0.,  0.,  0.],\n",
       "        [ 0., -0.,  0.,  0.,  0.,  0.,  0.,  0.,  0.,  0.,  0.,  0.,  0.,\n",
       "          0.,  0.,  0.,  0.,  0.,  0.,  0.,  0.,  0.,  0.,  0.,  0.,  0.,\n",
       "          0.,  0.,  0.,  0.,  0.,  0.,  0.,  0.,  0.,  0.,  0.,  0.,  0.,\n",
       "          0.,  0.,  0.,  0.,  0.,  0.,  0.,  0.,  0.,  0.,  0.,  0.,  0.,\n",
       "          0.,  0.,  0.,  0.,  0.,  0.,  0.,  0.,  0.,  0.,  0.,  0.,  0.,\n",
       "          0.,  0.,  0.,  0.,  0.,  0.,  0.,  0.,  0.,  0.,  0.,  0.,  0.,\n",
       "          0.,  0.,  0.,  0.,  0.,  0.,  0.,  0.,  0.,  0.,  0.,  0.,  0.,\n",
       "          0.,  0.,  0.,  0.,  0.,  0.,  0.,  0.,  0.,  0.,  0.,  0.,  0.,\n",
       "          0.,  0.,  0.],\n",
       "        [ 0.,  0., -0.,  0.,  0.,  0.,  0.,  0.,  0.,  0.,  0.,  0.,  0.,\n",
       "          0.,  0.,  0.,  0.,  0.,  0.,  0.,  0.,  0.,  0.,  0.,  0.,  0.,\n",
       "          0.,  0.,  0.,  0.,  0.,  0.,  0.,  0.,  0.,  0.,  0.,  0.,  0.,\n",
       "          0.,  0.,  0.,  0.,  0.,  0.,  0.,  0.,  0.,  0.,  0.,  0.,  0.,\n",
       "          0.,  0.,  0.,  0.,  0.,  0.,  0.,  0.,  0.,  0.,  0.,  0.,  0.,\n",
       "          0.,  0.,  0.,  0.,  0.,  0.,  0.,  0.,  0.,  0.,  0.,  0.,  0.,\n",
       "          0.,  0.,  0.,  0.,  0.,  0.,  0.,  0.,  0.,  0.,  0.,  0.,  0.,\n",
       "          0.,  0.,  0.,  0.,  0.,  0.,  0.,  0.,  0.,  0.,  0.,  0.,  0.,\n",
       "          0.,  0.,  0.],\n",
       "        [ 0.,  0.,  0., -0.,  0.,  0.,  0.,  0.,  0.,  0.,  0.,  0.,  0.,\n",
       "          0.,  0.,  0.,  0.,  0.,  0.,  0.,  0.,  0.,  0.,  0.,  0.,  0.,\n",
       "          0.,  0.,  0.,  0.,  0.,  0.,  0.,  0.,  0.,  0.,  0.,  0.,  0.,\n",
       "          0.,  0.,  0.,  0.,  0.,  0.,  0.,  0.,  0.,  0.,  0.,  0.,  0.,\n",
       "          0.,  0.,  0.,  0.,  0.,  0.,  0.,  0.,  0.,  0.,  0.,  0.,  0.,\n",
       "          0.,  0.,  0.,  0.,  0.,  0.,  0.,  0.,  0.,  0.,  0.,  0.,  0.,\n",
       "          0.,  0.,  0.,  0.,  0.,  0.,  0.,  0.,  0.,  0.,  0.,  0.,  0.,\n",
       "          0.,  0.,  0.,  0.,  0.,  0.,  0.,  0.,  0.,  0.,  0.,  0.,  0.,\n",
       "          0.,  0.,  0.],\n",
       "        [ 0.,  0.,  0.,  0., -0.,  0.,  0.,  0.,  0.,  0.,  0.,  0.,  0.,\n",
       "          0.,  0.,  0.,  0.,  0.,  0.,  0.,  0.,  0.,  0.,  0.,  0.,  0.,\n",
       "          0.,  0.,  0.,  0.,  0.,  0.,  0.,  0.,  0.,  0.,  0.,  0.,  0.,\n",
       "          0.,  0.,  0.,  0.,  0.,  0.,  0.,  0.,  0.,  0.,  0.,  0.,  0.,\n",
       "          0.,  0.,  0.,  0.,  0.,  0.,  0.,  0.,  0.,  0.,  0.,  0.,  0.,\n",
       "          0.,  0.,  0.,  0.,  0.,  0.,  0.,  0.,  0.,  0.,  0.,  0.,  0.,\n",
       "          0.,  0.,  0.,  0.,  0.,  0.,  0.,  0.,  0.,  0.,  0.,  0.,  0.,\n",
       "          0.,  0.,  0.,  0.,  0.,  0.,  0.,  0.,  0.,  0.,  0.,  0.,  0.,\n",
       "          0.,  0.,  0.],\n",
       "        [ 0.,  0.,  0.,  0.,  0., -0.,  0.,  0.,  0.,  0.,  0.,  0.,  0.,\n",
       "          0.,  0.,  0.,  0.,  0.,  0.,  0.,  0.,  0.,  0.,  0.,  0.,  0.,\n",
       "          0.,  0.,  0.,  0.,  0.,  0.,  0.,  0.,  0.,  0.,  0.,  0.,  0.,\n",
       "          0.,  0.,  0.,  0.,  0.,  0.,  0.,  0.,  0.,  0.,  0.,  0.,  0.,\n",
       "          0.,  0.,  0.,  0.,  0.,  0.,  0.,  0.,  0.,  0.,  0.,  0.,  0.,\n",
       "          0.,  0.,  0.,  0.,  0.,  0.,  0.,  0.,  0.,  0.,  0.,  0.,  0.,\n",
       "          0.,  0.,  0.,  0.,  0.,  0.,  0.,  0.,  0.,  0.,  0.,  0.,  0.,\n",
       "          0.,  0.,  0.,  0.,  0.,  0.,  0.,  0.,  0.,  0.,  0.,  0.,  0.,\n",
       "          0.,  0.,  0.]]),\n",
       " 'ipvt': array([1, 2, 3, 4, 5, 6], dtype=int32),\n",
       " 'qtf': array([5.0129561 , 4.99422463, 4.97166894, 4.95668954, 4.93792921,\n",
       "        4.91916888])}"
      ]
     },
     "execution_count": 467,
     "metadata": {},
     "output_type": "execute_result"
    }
   ],
   "source": [
    "infodict"
   ]
  },
  {
   "cell_type": "code",
   "execution_count": 414,
   "id": "05c0cc6a",
   "metadata": {},
   "outputs": [
    {
     "data": {
      "image/png": "[encoded data removed]",
      "text/plain": [
       "<Figure size 640x480 with 1 Axes>"
      ]
     },
     "metadata": {},
     "output_type": "display_data"
    }
   ],
   "source": [
    "plot.scatter(energy,Pressure)\n",
    "plot.xscale(\"log\")\n",
    "plot.yscale(\"log\")"
   ]
  },
  {
   "cell_type": "code",
   "execution_count": null,
   "id": "359dfa93",
   "metadata": {},
   "outputs": [],
   "source": []
  }
 ],
 "metadata": {
  "kernelspec": {
   "display_name": "Python 3 (ipykernel)",
   "language": "python",
   "name": "python3"
  },
  "language_info": {
   "codemirror_mode": {
    "name": "ipython",
    "version": 3
   },
   "file_extension": ".py",
   "mimetype": "text/x-python",
   "name": "python",
   "nbconvert_exporter": "python",
   "pygments_lexer": "ipython3",
   "version": "3.9.17"
  }
 },
 "nbformat": 4,
 "nbformat_minor": 5
}
