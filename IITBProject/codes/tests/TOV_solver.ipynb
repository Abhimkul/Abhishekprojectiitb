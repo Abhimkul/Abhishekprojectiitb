{
 "cells": [
  {
   "cell_type": "code",
   "execution_count": 398,
   "metadata": {},
   "outputs": [],
   "source": [
    "#Initials \n",
    "import numpy as np\n",
    "import math\n",
    "\n",
    "\n",
    "k = 2\n",
    "GA = 0.5\n",
    "pi = math.pi\n",
    "\n",
    "\n",
    "def R0(Pc,dp):\n",
    "   dc = (Pc/k)**(1/GA)\n",
    "   P = Pc - dp \n",
    "   #d = dc**(1- GA) - dp/(k*GA*((P/k)**((1- GA)/GA)))**(1/(1- GA))\n",
    "   return  ((3/(2*pi*(3*Pc + dc)))*(math.log(((dc + Pc)/((P/k)**(1/GA) + P)))))**(0.5)\n",
    "\n",
    "def M0(Pc,dp):\n",
    "    dc = (Pc/k)**(1/GA)\n",
    "    P = Pc - dp \n",
    "    #d = dc - dp/(k*GA*(d**(1- GA)))\n",
    "    return (math.log((dc + Pc)/((P/k)**(1/GA) + P)))*(2*dc/(3*Pc + dc))*((3/(2*pi*(3*Pc + dc)))*(math.log((dc + Pc)/((P/k)**(1/GA) + P))))\n",
    "    "
   ]
  },
  {
   "cell_type": "code",
   "execution_count": 403,
   "metadata": {},
   "outputs": [
    {
     "name": "stderr",
     "output_type": "stream",
     "text": [
      "c:\\Users\\Abhimkul\\anaconda3\\lib\\site-packages\\scipy\\integrate\\odepack.py:247: ODEintWarning: Excess work done on this call (perhaps wrong Dfun type). Run with full_output = 1 to get quantitative information.\n",
      "  warnings.warn(warning_msg, ODEintWarning)\n"
     ]
    },
    {
     "data": {
      "text/plain": [
       "Text(0, 0.5, 'm (kg)')"
      ]
     },
     "execution_count": 403,
     "metadata": {},
     "output_type": "execute_result"
    },
    {
     "data": {
      "image/png": "[encoded data removed]",
      "text/plain": [
       "<Figure size 432x288 with 1 Axes>"
      ]
     },
     "metadata": {
      "needs_background": "light"
     },
     "output_type": "display_data"
    }
   ],
   "source": [
    "import numpy as np\n",
    "import math\n",
    "import matplotlib.pyplot as plot\n",
    "from scipy.integrate import odeint\n",
    "\n",
    "G = 1\n",
    "k = 2\n",
    "c = 1\n",
    "GA = 0.5\n",
    "pi = math.pi\n",
    "\n",
    "#Units conversion  \n",
    "Rs = (2*(6.67*10**-11)*(2*10**30))/((3*(10**8))**2)\n",
    "# m = mt * (2*10**30)\n",
    "# P = Pt * (1.6 *10**64)\n",
    "# d = dt * (1.6 *10**64)\n",
    "\n",
    "K1 = (4*pi*((Rs)**3)/((6*(10**30))*((9*10**16))))\n",
    "\n",
    "\n",
    "def f(x,P):\n",
    "   m,r = x\n",
    "   d = (P/k)**(1/GA)\n",
    "   dmdp = -(2*K1*(r**3)*d*(r-m))/((d + P)*(m + K1*P*(r**3)))\n",
    "   drdp = (2*r*(r - m))/((d + P)*(m + K1*P*(r**3)))\n",
    "   return [dmdp , drdp]\n",
    "\n",
    "#Conversion pascal to GeV\\fm^3\n",
    "C = (6.2)*(10**(-54))\n",
    "\n",
    "#Initials\n",
    "Ro = R0(Pc = 0.01*C,  dp = 10**(-6)*C)\n",
    "Mo = M0(Pc = 0.01*C,  dp = 10**(-6)*C)\n",
    "\n",
    "x0 = [Mo,Ro]\n",
    "\n",
    "P = np.linspace((10**(-6)*C),0,100000)\n",
    "\n",
    "solve = odeint(f,x0, P)\n",
    "\n",
    "m =solve[:,0]\n",
    "r = solve[:,1]\n",
    "\n",
    "plot.plot(m,r)\n",
    "plot.xlabel(\"r (km)\")\n",
    "plot.ylabel(\"m (kg)\")\n",
    "#plot.ylim(0,0.25*10**-6)"
   ]
  }
 ],
 "metadata": {
  "kernelspec": {
   "display_name": "base",
   "language": "python",
   "name": "python3"
  },
  "language_info": {
   "codemirror_mode": {
    "name": "ipython",
    "version": 3
   },
   "file_extension": ".py",
   "mimetype": "text/x-python",
   "name": "python",
   "nbconvert_exporter": "python",
   "pygments_lexer": "ipython3",
   "version": "3.9.7"
  }
 },
 "nbformat": 4,
 "nbformat_minor": 2
}
