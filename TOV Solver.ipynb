{
 "cells": [
  {
   "cell_type": "code",
   "execution_count": 377,
   "id": "7a6d35a7-60fb-480d-9756-166b9f98e3aa",
   "metadata": {},
   "outputs": [],
   "source": [
    "#Conversion for scaling\n",
    "\n",
    "MeV = 1 \n",
    "GeV = 1000*MeV\n",
    "fm  = 1\n",
    "c   = 1\n",
    "metres = (10**15)*fm\n",
    "km = 1000*metres\n",
    "second = 2.99*(10**8)*metres\n",
    "kg = (second**2)/((1.6*(10**(-13)))*((metres)**2))\n",
    "G = 6.67*10**(-11)*((metres)**3)/(kg*(second)**2)"
   ]
  },
  {
   "cell_type": "code",
   "execution_count": 378,
   "id": "a0a0d3c1-dc62-4011-892f-f8cf7d0f67d4",
   "metadata": {
    "scrolled": true
   },
   "outputs": [
    {
     "data": {
      "text/plain": [
       "Text(0, 0.5, 'm')"
      ]
     },
     "execution_count": 378,
     "metadata": {},
     "output_type": "execute_result"
    },
    {
     "data": {
      "image/png": "[encoded data removed]",
      "text/plain": [
       "<Figure size 640x480 with 1 Axes>"
      ]
     },
     "metadata": {},
     "output_type": "display_data"
    }
   ],
   "source": [
    "import numpy as np\n",
    "import math\n",
    "import matplotlib.pyplot as plot\n",
    "from scipy.integrate import odeint\n",
    "\n",
    "kappa =  0.05\n",
    "GA =  5/3\n",
    "mbar = 1.66*(10**-27)*kg\n",
    "k = kappa*(mbar)*((0.1*(fm)**-3)**(1 - GA))\n",
    "pi = math.pi\n",
    "\n",
    "\n",
    "#Defining the values in terms\n",
    "Rs = ((2*G*(1.98847*(10**30)*kg))/((c**2)))\n",
    "K1 =  ((4*pi*(Rs**3))/(1.98847*((10**30)*kg)*(c**2)))*(GeV/(fm)**3)\n",
    "\n",
    "\n",
    "def f(x,P):\n",
    "    m,r = x\n",
    "    d = (mbar*((P*(GeV))/k)**(1/GA) + (P*(GeV))/(GA - 1))/(GeV)\n",
    "    dmdp = -(2*K1*(r**3)*d*(r-m))/((d + P)*(m + K1*P*(r**3)))\n",
    "    drdp = -(2*r*(r - m))/((d + P)*(m + K1*P*(r**3)))\n",
    "    return [dmdp , drdp]\n",
    "\n",
    "#Initials - Pc and dp in natural units \n",
    "import math \n",
    "pi = math.pi\n",
    "\n",
    "def R0(Pc,dp):\n",
    "    dc = (mbar*(Pc*(GeV)/k)**(1/GA) + (Pc*(GeV)/(GA - 1)))/(GeV)\n",
    "    #print(dc)\n",
    "    P = Pc - dp \n",
    "    d = (mbar*(P*GeV/k)**(1/GA) +(P*GeV/(GA - 1)))/GeV\n",
    "    nc = (((Pc*GeV)/k)**(1/GA))/GeV\n",
    "    n = (((P*GeV)/k)**(1/GA))/GeV\n",
    "    return  (((3/(2*pi*(3*Pc + dc)))*((math.log((dc + Pc)*n) - ((math.log((d + P)*nc)))))))**(0.5)\n",
    "\n",
    "def M0(Pc,dp):\n",
    "    dc = (mbar*(Pc*(GeV)/k)**(1/GA) + (Pc*(GeV)/(GA - 1)))/(GeV)\n",
    "    P = Pc - dp\n",
    "    d = (mbar*(P*GeV/k)**(1/GA) +(P*GeV/(GA - 1)))/GeV\n",
    "    nc = (((Pc*GeV)/k)**(1/GA))/GeV\n",
    "    n = (((P*GeV)/k)**(1/GA))/GeV\n",
    "    return ((((((math.log((dc + Pc)*n) -((math.log((d + P)*nc)))))*(2*dc/(3*Pc + dc))))))*R0(Pc,dp)\n",
    "  \n",
    "#Initials\n",
    "dp =1e-12\n",
    "Ro =  R0(Pc = 0.01/GeV,  dp = dp)\n",
    "Mo =  M0(Pc = 0.01/GeV,  dp = dp)\n",
    "x0 = [Mo,Ro]\n",
    "\n",
    "#P0 = Pc- dp\n",
    "P0 = 0.01/GeV - dp\n",
    "        \n",
    "        \n",
    "P = np.linspace(1e-6, P0, 100000)\n",
    "        \n",
    "solve = odeint(f,x0, P[::-1])\n",
    "        \n",
    "m =solve[:,0]\n",
    "r = solve[:,1]\n",
    "\n",
    "\n",
    "plot.plot(r, m) \n",
    "plot.xlabel(\"r\")\n",
    "plot.ylabel(\"m\")\n",
    "#plot.legend()\n",
    "# plot.show()\n",
    "# plot.ylim(0,0.25*10**-6)"
   ]
  },
  {
   "cell_type": "code",
   "execution_count": 381,
   "id": "6a39c2f5-ced3-45f0-b5d4-f35c348e1969",
   "metadata": {},
   "outputs": [
    {
     "data": {
      "text/plain": [
       "(0.0, 0.0, 2.967102135322871e+18, 0.29543770104625694)"
      ]
     },
     "execution_count": 381,
     "metadata": {},
     "output_type": "execute_result"
    }
   ],
   "source": [
    "Ro,Mo,Rs, K1"
   ]
  },
  {
   "cell_type": "code",
   "execution_count": 382,
   "id": "7ddd9857-625b-4d29-b48f-2b60f9729d9c",
   "metadata": {},
   "outputs": [
    {
     "name": "stdout",
     "output_type": "stream",
     "text": [
      " lsoda--  warning..internal t (=r1) and h (=r2) are\u0000\u0000\n",
      "       such that in the machine, t + h = t on the next step  \n",
      "       (h = step size). solver will continue anyway\u0000\u0000\n",
      "      in above,  r1 =  0.1762975375287D+02   r2 = -0.9526192754356D-15\n",
      " lsoda--  warning..internal t (=r1) and h (=r2) are\u0000\u0000\n",
      "       such that in the machine, t + h = t on the next step  \n",
      "       (h = step size). solver will continue anyway\u0000\u0000\n",
      "      in above,  r1 =  0.1762975375287D+02   r2 = -0.9526192754356D-15\n",
      " lsoda--  warning..internal t (=r1) and h (=r2) are\u0000\u0000\n",
      "       such that in the machine, t + h = t on the next step  \n",
      "       (h = step size). solver will continue anyway\u0000\u0000\n",
      "      in above,  r1 =  0.1762975375287D+02   r2 = -0.9526192754356D-15\n",
      " lsoda--  warning..internal t (=r1) and h (=r2) are\u0000\u0000\n",
      "       such that in the machine, t + h = t on the next step  \n",
      "       (h = step size). solver will continue anyway\u0000\u0000\n",
      "      in above,  r1 =  0.1762975375287D+02   r2 = -0.1494489507220D-14\n",
      " lsoda--  warning..internal t (=r1) and h (=r2) are\u0000\u0000\n",
      "       such that in the machine, t + h = t on the next step  \n",
      "       (h = step size). solver will continue anyway\u0000\u0000\n",
      "      in above,  r1 =  0.1762975375287D+02   r2 = -0.1494489507220D-14\n",
      " lsoda--  warning..internal t (=r1) and h (=r2) are\u0000\u0000\n",
      "       such that in the machine, t + h = t on the next step  \n",
      "       (h = step size). solver will continue anyway\u0000\u0000\n",
      "      in above,  r1 =  0.1762975375287D+02   r2 = -0.1494489507220D-14\n",
      " lsoda--  warning..internal t (=r1) and h (=r2) are\u0000\u0000\n",
      "       such that in the machine, t + h = t on the next step  \n",
      "       (h = step size). solver will continue anyway\u0000\u0000\n",
      "      in above,  r1 =  0.1762975375287D+02   r2 = -0.2245936377646D-15\n",
      " lsoda--  warning..internal t (=r1) and h (=r2) are\u0000\u0000\n",
      "       such that in the machine, t + h = t on the next step  \n",
      "       (h = step size). solver will continue anyway\u0000\u0000\n",
      "      in above,  r1 =  0.1762975375287D+02   r2 = -0.2245936377646D-15\n",
      " lsoda--  warning..internal t (=r1) and h (=r2) are\u0000\u0000\n",
      "       such that in the machine, t + h = t on the next step  \n",
      "       (h = step size). solver will continue anyway\u0000\u0000\n",
      "      in above,  r1 =  0.1762975375287D+02   r2 = -0.2245936377646D-15\n",
      " lsoda--  at t (=r1), too much accuracy requested  \u0000\u0000\n",
      "       for precision of machine..  see tolsf (=r2) \u0000\u0000\n",
      "      in above,  r1 =  0.4694920424720D+03   r2 =                  NaN\n",
      " lsoda--  at t (=r1), too much accuracy requested  \u0000\u0000\n",
      "       for precision of machine..  see tolsf (=r2) \u0000\u0000\n",
      "      in above,  r1 =  0.5750641892616D+03   r2 =                  NaN\n",
      " lsoda--  at t (=r1), too much accuracy requested  \u0000\u0000\n",
      "       for precision of machine..  see tolsf (=r2) \u0000\u0000\n",
      "      in above,  r1 =  0.6190822549882D+03   r2 =                  NaN\n",
      " lsoda--  at t (=r1), too much accuracy requested  \u0000\u0000\n",
      "       for precision of machine..  see tolsf (=r2) \u0000\u0000\n",
      "      in above,  r1 =  0.6788727804114D+03   r2 =                  NaN\n",
      " lsoda--  at t (=r1), too much accuracy requested  \u0000\u0000\n",
      "       for precision of machine..  see tolsf (=r2) \u0000\u0000\n",
      "      in above,  r1 =  0.7043757760620D+03   r2 =                  NaN\n",
      " lsoda--  at t (=r1), too much accuracy requested  \u0000\u0000\n",
      "       for precision of machine..  see tolsf (=r2) \u0000\u0000\n",
      "      in above,  r1 =  0.7174843291082D+03   r2 =                  NaN\n",
      " lsoda--  at t (=r1), too much accuracy requested  \u0000\u0000\n",
      "       for precision of machine..  see tolsf (=r2) \u0000\u0000\n",
      "      in above,  r1 =  0.7582919471361D+03   r2 =                  NaN\n",
      " lsoda--  at t (=r1), too much accuracy requested  \u0000\u0000\n",
      "       for precision of machine..  see tolsf (=r2) \u0000\u0000\n",
      "      in above,  r1 =  0.7724038893002D+03   r2 =                  NaN\n",
      " lsoda--  at t (=r1), too much accuracy requested  \u0000\u0000\n",
      "       for precision of machine..  see tolsf (=r2) \u0000\u0000\n",
      "      in above,  r1 =  0.8315272459646D+03   r2 =                  NaN\n",
      " lsoda--  at t (=r1), too much accuracy requested  \u0000\u0000\n",
      "       for precision of machine..  see tolsf (=r2) \u0000\u0000\n",
      "      in above,  r1 =  0.8470021095014D+03   r2 =                  NaN\n",
      " lsoda--  at t (=r1), too much accuracy requested  \u0000\u0000\n",
      "       for precision of machine..  see tolsf (=r2) \u0000\u0000\n",
      "      in above,  r1 =  0.8627649628816D+03   r2 =                  NaN\n",
      " lsoda--  at t (=r1), too much accuracy requested  \u0000\u0000\n",
      "       for precision of machine..  see tolsf (=r2) \u0000\u0000\n",
      "      in above,  r1 =  0.8951761770748D+03   r2 =                  NaN\n",
      " lsoda--  at t (=r1), too much accuracy requested  \u0000\u0000\n",
      "       for precision of machine..  see tolsf (=r2) \u0000\u0000\n",
      "      in above,  r1 =  0.9460901915275D+03   r2 =                  NaN\n",
      " lsoda--  at t (=r1), too much accuracy requested  \u0000\u0000\n",
      "       for precision of machine..  see tolsf (=r2) \u0000\u0000\n",
      "      in above,  r1 =  0.9636970909747D+03   r2 =                  NaN\n",
      " lsoda--  at t (=r1), too much accuracy requested  \u0000\u0000\n",
      "       for precision of machine..  see tolsf (=r2) \u0000\u0000\n",
      "      in above,  r1 =  0.9816316578165D+03   r2 =                  NaN\n",
      " lsoda--  at t (=r1), too much accuracy requested  \u0000\u0000\n",
      "       for precision of machine..  see tolsf (=r2) \u0000\u0000\n"
     ]
    },
    {
     "name": "stderr",
     "output_type": "stream",
     "text": [
      "/tmp/ipykernel_4672/557321907.py:21: RuntimeWarning: invalid value encountered in scalar divide\n",
      "  dmdp = -(2*K1*(r**3)*d*(r-m))/((d + P)*(m + K1*P*(r**3)))\n",
      "/tmp/ipykernel_4672/557321907.py:22: RuntimeWarning: invalid value encountered in scalar divide\n",
      "  drdp = -(2*r*(r - m))/((d + P)*(m + K1*P*(r**3)))\n"
     ]
    },
    {
     "data": {
      "text/plain": [
       "Text(0, 0.5, 'm')"
      ]
     },
     "execution_count": 382,
     "metadata": {},
     "output_type": "execute_result"
    },
    {
     "name": "stdout",
     "output_type": "stream",
     "text": [
      "      in above,  r1 =  0.9998999899990D+03   r2 =                  NaN\n"
     ]
    },
    {
     "data": {
      "image/png": "[encoded data removed]",
      "text/plain": [
       "<Figure size 640x480 with 1 Axes>"
      ]
     },
     "metadata": {},
     "output_type": "display_data"
    }
   ],
   "source": [
    "#Central Pressure\n",
    "\n",
    "M = []\n",
    "R = []\n",
    "dp =1e-12\n",
    "\n",
    "Pc = np.logspace(-2,6,1000)\n",
    "\n",
    "for i in Pc:\n",
    "    \n",
    "  #Initials\n",
    "  Ro =  R0(Pc = i/GeV,  dp = dp)\n",
    "  Mo =  M0(Pc = i/GeV,  dp = dp)\n",
    "  x0 = [Mo,Ro]\n",
    "\n",
    "  #P0 = Pc- dp\n",
    "  P0 = i/GeV - dp\n",
    "  #print(P0)\n",
    "  P = np.linspace(1e-12, P0, 10000)\n",
    "\n",
    "  solve = odeint(f,x0, P[::-1])\n",
    "\n",
    "  m =solve[:,0]\n",
    "  r = solve[:,1]\n",
    "\n",
    "  M.append(m[-1])\n",
    "  R.append(r[-1]*Rs/km)  \n",
    "  \n",
    "M\n",
    "R\n",
    "plot.plot(R,M, label = \"0.05|5/3\")\n",
    "plot.legend()\n",
    "plot.xlabel(\"r\")\n",
    "plot.ylabel(\"m\")\n",
    "#plot.xlim(34.25,34.5)\n",
    "#plot.ylim(9.6,9.7)"
   ]
  },
  {
   "cell_type": "code",
   "execution_count": 376,
   "id": "7eb953d2-5142-463f-9cac-6cfad28c62fb",
   "metadata": {},
   "outputs": [],
   "source": [
    "#Finding the M_max and R_max \n",
    "\n"
   ]
  },
  {
   "cell_type": "code",
   "execution_count": 271,
   "id": "36dfb454-8fe4-42f9-b542-c9a3f87bff04",
   "metadata": {},
   "outputs": [
    {
     "data": {
      "text/plain": [
       "array([   100.        ,    215.443469  ,    464.15888336,   1000.        ,\n",
       "         2154.43469003,   4641.58883361,  10000.        ,  21544.34690032,\n",
       "        46415.88833613, 100000.        ])"
      ]
     },
     "execution_count": 271,
     "metadata": {},
     "output_type": "execute_result"
    }
   ],
   "source": [
    "np.logspace(2, 5, 10)"
   ]
  },
  {
   "cell_type": "code",
   "execution_count": null,
   "id": "8e2b076d-8543-4e4e-b4f6-fb254a090c68",
   "metadata": {},
   "outputs": [],
   "source": []
  }
 ],
 "metadata": {
  "kernelspec": {
   "display_name": "Python 3 (ipykernel)",
   "language": "python",
   "name": "python3"
  },
  "language_info": {
   "codemirror_mode": {
    "name": "ipython",
    "version": 3
   },
   "file_extension": ".py",
   "mimetype": "text/x-python",
   "name": "python",
   "nbconvert_exporter": "python",
   "pygments_lexer": "ipython3",
   "version": "3.11.5"
  }
 },
 "nbformat": 4,
 "nbformat_minor": 5
}
