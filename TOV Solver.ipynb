{
 "cells": [
  {
   "cell_type": "code",
   "execution_count": 3,
   "id": "0702ac08-1b8f-4cde-9610-8bc66e1cb20d",
   "metadata": {},
   "outputs": [],
   "source": [
    "#Initials\n",
    "import math \n",
    "\n",
    "def R0(Pc,dp):\n",
    "   dc = (Pc/k)**(1/GA)\n",
    "   P = Pc - dp \n",
    "   #d = dc**(1- GA) - dp/(k*GA*((P/k)**((1- GA)/GA)))**(1/(1- GA))\n",
    "   return  ((3/(2*pi*(3*Pc + dc)))*(math.log(((dc + Pc)/((P/k)**(1/GA) + P)))))**(0.5)\n",
    "\n",
    "def M0(Pc,dp):\n",
    "    dc = (Pc/k)**(1/GA)\n",
    "    P = Pc - dp \n",
    "    #d = dc - dp/(k*GA*(d**(1- GA)))\n",
    "    return (math.log((dc + Pc)/((P/k)**(1/GA) + P)))*(2*dc/(3*Pc + dc))*((3/(2*pi*(3*Pc + dc)))*(math.log((dc + Pc)/((P/k)**(1/GA) + P))))\n",
    "    "
   ]
  },
  {
   "cell_type": "code",
   "execution_count": 4,
   "id": "a0a0d3c1-dc62-4011-892f-f8cf7d0f67d4",
   "metadata": {},
   "outputs": [
    {
     "name": "stdout",
     "output_type": "stream",
     "text": [
      " lsoda--  at t (=r1), too much accuracy requested  \u0000\u0000\n",
      "       for precision of machine..  see tolsf (=r2) \u0000\u0000\n",
      "      in above,  r1 =  0.3164828828829D-38   r2 =                  NaN\n"
     ]
    },
    {
     "name": "stderr",
     "output_type": "stream",
     "text": [
      "/tmp/ipykernel_18513/1156315096.py:20: RuntimeWarning: invalid value encountered in scalar divide\n",
      "  dmdp = -(2*K1*(r**3)*d*(r-m))/((d + P)*(m + K1*P*(r**3)))\n",
      "/tmp/ipykernel_18513/1156315096.py:21: RuntimeWarning: invalid value encountered in scalar divide\n",
      "  drdp = (2*r*(r - m))/((d + P)*(m + K1*P*(r**3)))\n"
     ]
    },
    {
     "data": {
      "text/plain": [
       "Text(0, 0.5, 'm (kg)')"
      ]
     },
     "execution_count": 4,
     "metadata": {},
     "output_type": "execute_result"
    },
    {
     "data": {
      "image/png": "[encoded data removed]",
      "text/plain": [
       "<Figure size 640x480 with 1 Axes>"
      ]
     },
     "metadata": {},
     "output_type": "display_data"
    }
   ],
   "source": [
    "import numpy as np\n",
    "import math\n",
    "import matplotlib.pyplot as plot\n",
    "from scipy.integrate import odeint\n",
    "\n",
    "G = 1\n",
    "k = 2\n",
    "c = 1\n",
    "GA = 0.5\n",
    "pi = math.pi\n",
    "\n",
    "#Units conversion to Gev/fm^3\n",
    "C1 = 10.55*(10**(-15))\n",
    "K1 = (18.18)*(10**(10)) * C1\n",
    "\n",
    "\n",
    "def f(x,P):\n",
    "   m,r = x\n",
    "   d = (P/k)**(1/GA)\n",
    "   dmdp = -(2*K1*(r**3)*d*(r-m))/((d + P)*(m + K1*P*(r**3)))\n",
    "   drdp = (2*r*(r - m))/((d + P)*(m + K1*P*(r**3)))\n",
    "   return [dmdp , drdp]\n",
    "\n",
    "#Conversion2 pascal to GeV\\fm^3\n",
    "C2 = (1.98)*(10**(-73))\n",
    "\n",
    "#Initials\n",
    "Ro =  R0(Pc = (1.6*(10**34))*C2,  dp = (10**(-10))*C2)\n",
    "Mo =  M0(Pc = (1.6*(10**34))*C2,  dp = ((10**(-10))*C2))\n",
    "\n",
    "x0 = [Mo,Ro]\n",
    "\n",
    "#P0 = Pc- dp\n",
    "P0 = 1.6*(10**34)*C2 - 10**(-6)*C2\n",
    "\n",
    "P = np.linspace(P0,0,10**3)\n",
    "\n",
    "solve = odeint(f,x0, P)\n",
    "\n",
    "m =solve[:,0]\n",
    "r = solve[:,1]\n",
    "\n",
    "plot.plot(m,r)\n",
    "plot.xlabel(\"r (km)\")\n",
    "plot.ylabel(\"m (kg)\")\n",
    "#plot.ylim(0,0.25*10**-6)\n"
   ]
  },
  {
   "cell_type": "code",
   "execution_count": null,
   "id": "143fa390-e20a-46c2-b538-d648943ee027",
   "metadata": {},
   "outputs": [],
   "source": []
  }
 ],
 "metadata": {
  "kernelspec": {
   "display_name": "Python 3 (ipykernel)",
   "language": "python",
   "name": "python3"
  },
  "language_info": {
   "codemirror_mode": {
    "name": "ipython",
    "version": 3
   },
   "file_extension": ".py",
   "mimetype": "text/x-python",
   "name": "python",
   "nbconvert_exporter": "python",
   "pygments_lexer": "ipython3",
   "version": "3.11.5"
  }
 },
 "nbformat": 4,
 "nbformat_minor": 5
}
