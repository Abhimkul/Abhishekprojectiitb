{
 "cells": [
  {
   "cell_type": "code",
   "execution_count": 1,
   "id": "cbb86e78-acaa-45b7-8622-38d9173b63e7",
   "metadata": {},
   "outputs": [],
   "source": [
    "import numpy as np\n",
    "import matplotlib.pyplot as plot \n",
    "import scipy\n",
    "from scipy.optimize import curve_fit\n",
    "import pandas as pd"
   ]
  },
  {
   "cell_type": "code",
   "execution_count": 2,
   "id": "1e3e5dfa-d4de-477b-a1b7-c5805c686cc2",
   "metadata": {},
   "outputs": [],
   "source": [
    "#Units conversion from geometrical units\n",
    "\n",
    "G = 6.67*10**(-11)\n",
    "c = 3*10**8\n",
    "k = (c**2)/G\n",
    "k1 = (((10**-3))/(k*(1.98*10**30)))"
   ]
  },
  {
   "cell_type": "code",
   "execution_count": 3,
   "id": "6d630f7b-c031-452e-8a3b-0a5c5606fd79",
   "metadata": {},
   "outputs": [],
   "source": [
    "#loading the data\n",
    "\n",
    "df = pd.read_csv(\"data from plotanalyser.csv\")"
   ]
  },
  {
   "cell_type": "code",
   "execution_count": 4,
   "id": "a578cf5b-3743-4fff-8546-0e13715aebee",
   "metadata": {},
   "outputs": [
    {
     "data": {
      "text/plain": [
       "(array([1.83825465, 2.09968526, 2.00830711, 2.18742012, 2.21046257,\n",
       "        2.39811159, 2.525732  , 2.65661421, 2.63895088, 2.53894134,\n",
       "        2.88044826, 2.80630424, 3.31563186, 3.45515498, 3.492103  ]),\n",
       " array([0.05446346, 0.06096341, 0.0618289 , 0.06564959, 0.06404527,\n",
       "        0.06800013, 0.07295565, 0.07503507, 0.07891388, 0.0803141 ,\n",
       "        0.08521227, 0.08520897, 0.09312465, 0.09460245, 0.09547366]))"
      ]
     },
     "execution_count": 4,
     "metadata": {},
     "output_type": "execute_result"
    }
   ],
   "source": [
    "#Converting the data fromm \n",
    "\n",
    "fpeak  = df['fpeak'].to_numpy()\n",
    "m_Xaxis = (df[\"(M/R^3)^1/2\"].to_numpy())\n",
    "fpeak , m_Xaxis"
   ]
  },
  {
   "cell_type": "code",
   "execution_count": 5,
   "id": "5f2e82fa-fd67-4d6b-bab4-c9c6e15f5af9",
   "metadata": {},
   "outputs": [
    {
     "data": {
      "text/plain": [
       "(38.24889509836317, -0.2927097279270208)"
      ]
     },
     "execution_count": 5,
     "metadata": {},
     "output_type": "execute_result"
    }
   ],
   "source": [
    "#Curve fit\n",
    "\n",
    "def function(m_Xaxis , a ,b):\n",
    "    return a*m_Xaxis + b\n",
    "\n",
    "coeffs, cov = curve_fit(function,m_Xaxis,fpeak)\n",
    "\n",
    "A,B = coeffs\n",
    "A,B"
   ]
  },
  {
   "cell_type": "code",
   "execution_count": 6,
   "id": "748054a3-6179-47a7-92f5-f3098a32573d",
   "metadata": {},
   "outputs": [
    {
     "data": {
      "text/plain": [
       "[3.24999948,\n",
       " 3.49999944,\n",
       " 3.7499993999999996,\n",
       " 3.4411759200000005,\n",
       " 3.70588176,\n",
       " 3.9705876000000004,\n",
       " 3.5367641400000003,\n",
       " 3.80882292,\n",
       " 4.080881700000001,\n",
       " 3.6323523599999996,\n",
       " 3.9117640799999998,\n",
       " 4.1911758,\n",
       " 3.8235288,\n",
       " 4.1176464,\n",
       " 4.411764]"
      ]
     },
     "execution_count": 6,
     "metadata": {},
     "output_type": "execute_result"
    }
   ],
   "source": [
    "#Defining the Mtot\n",
    "\n",
    "def Mtot1(m1,q):\n",
    "   return m1*(1 + q)\n",
    "\n",
    "q = [0.7,0.8,0.85,0.9,1]\n",
    "m1 = [1.3,1.4,1.5]\n",
    "\n",
    "Mtot = []\n",
    "\n",
    "for i in q:\n",
    "    for j in m1:\n",
    "       Mtot.append(Mtot1(q = i ,m1 = j)*1.470588)#Scaling factor\n",
    "\n",
    "Mtot\n"
   ]
  },
  {
   "cell_type": "code",
   "execution_count": 7,
   "id": "6102ceeb-ff84-4507-81fb-20cbdd7154ff",
   "metadata": {},
   "outputs": [
    {
     "data": {
      "text/plain": [
       "[1.9736236533789415,\n",
       " 2.0591755703799817,\n",
       " 2.141722837900901,\n",
       " 2.0393280822042428,\n",
       " 2.1273602785356887,\n",
       " 2.2123007160589965,\n",
       " 2.07149564052384,\n",
       " 2.1607421314079693,\n",
       " 2.246854216520288,\n",
       " 2.103231360777357,\n",
       " 2.193675844740304,\n",
       " 2.280943848488135,\n",
       " 2.1654739619550067,\n",
       " 2.258268044566503,\n",
       " 2.347803127241464]"
      ]
     },
     "execution_count": 7,
     "metadata": {},
     "output_type": "execute_result"
    }
   ],
   "source": [
    "#Defining the EoS: k = 0.05 , GA = 2  value and Rmax = 9.745957117909718km\n",
    " \n",
    "def formula(Mtot1 , Rmax):\n",
    "   return (38.24889509836317)*((Mtot1/(Rmax)**3)**0.5) - 0.2927097279270208\n",
    "    \n",
    "\n",
    "fpeak = []\n",
    "#k = (G/c**2)\n",
    "\n",
    "for i in Mtot:\n",
    " fpeak.append(formula(Mtot1 = i , Rmax = 9.745957117909718))   \n",
    "\n",
    "fpeak"
   ]
  },
  {
   "cell_type": "code",
   "execution_count": 8,
   "id": "94c17a59-aef7-4f26-8155-446cdd5e6e1f",
   "metadata": {},
   "outputs": [
    {
     "data": {
      "text/plain": [
       "Text(0.5, 0, '$M_{tot}$')"
      ]
     },
     "execution_count": 8,
     "metadata": {},
     "output_type": "execute_result"
    },
    {
     "data": {
      "image/png": "[encoded data removed]",
      "text/plain": [
       "<Figure size 640x480 with 1 Axes>"
      ]
     },
     "metadata": {},
     "output_type": "display_data"
    }
   ],
   "source": [
    "#Plotting \n",
    "plot.plot(Mtot,fpeak)\n",
    "plot.ylabel(\"$f_{peak} (KHz)$\")\n",
    "plot.xlabel(\"$M_{tot}$\")"
   ]
  },
  {
   "cell_type": "code",
   "execution_count": 9,
   "id": "59dff243-00fb-40b4-b452-62761d480dd4",
   "metadata": {},
   "outputs": [],
   "source": [
    "#fpeak from Vretinaris numerical simulation paper (R_1.4)\n",
    "\n",
    "def Mchirp1(m1,q):\n",
    "    return ((q*(m1**2))**(3/5))/((m1+q*m1)**1/5)\n",
    "\n",
    "def empirical_relation(Mchirp,R):\n",
    "    b0 = 14.819 \n",
    "    b1 = -1.474\n",
    "    b2 = -1.43\n",
    "    b3 = 0.414\n",
    "    b4 = -0.0\n",
    "    b5 =  0.043\n",
    "    return b0 + b1*Mchirp + b2*(Mchirp**2) + b3*(Mchirp*R) + b4*(Mchirp*R**2) + b5*(Mchirp**2*R)\n"
   ]
  },
  {
   "cell_type": "code",
   "execution_count": 10,
   "id": "37552af7-25e1-4657-946d-301d20a0c078",
   "metadata": {},
   "outputs": [
    {
     "data": {
      "text/plain": [
       "[2.5024682577279274,\n",
       " 2.5398350610638367,\n",
       " 2.5751240729642064,\n",
       " 2.5605906886690457,\n",
       " 2.5988253749200227,\n",
       " 2.634934010865902,\n",
       " 2.583677492013523,\n",
       " 2.622256909925956,\n",
       " 2.6586911086339002,\n",
       " 2.6034580218681116,\n",
       " 2.6423328022358628,\n",
       " 2.6790459396880957,\n",
       " 2.6346848801544587,\n",
       " 2.674025939312672,\n",
       " 2.7111794279942467]"
      ]
     },
     "execution_count": 10,
     "metadata": {},
     "output_type": "execute_result"
    }
   ],
   "source": [
    "#Defining the Mchirp\n",
    "\n",
    "q = [0.7,0.8,0.85,0.9,1]\n",
    "m1 = [1.3,1.4,1.5]\n",
    "\n",
    "Mchirp = []\n",
    "\n",
    "for i in q:\n",
    "    for j in m1:\n",
    "       Mchirp.append(Mchirp1(q = i ,m1 = j))\n",
    "(Mchirp)"
   ]
  },
  {
   "cell_type": "code",
   "execution_count": 11,
   "id": "54676149-0238-4224-a3ee-6db852d2ac0d",
   "metadata": {},
   "outputs": [
    {
     "data": {
      "text/plain": [
       "[30.225489981153498,\n",
       " 30.40752171544284,\n",
       " 30.578134287824934,\n",
       " 30.508022031059262,\n",
       " 30.69201610507121,\n",
       " 30.86442094158093,\n",
       " 30.619297960136286,\n",
       " 30.804042954697078,\n",
       " 30.977132354658796,\n",
       " 30.714208987392997,\n",
       " 30.899584454987174,\n",
       " 31.073248016012236,\n",
       " 30.863235958364136,\n",
       " 31.049582486092806,\n",
       " 31.224129227721463]"
      ]
     },
     "execution_count": 11,
     "metadata": {},
     "output_type": "execute_result"
    }
   ],
   "source": [
    "#Polytrope kappa = 0.05, Pc = 8.32199 , GA = 2,    R_1.4 = 21.489485069694197km\n",
    "\n",
    "fpeak = []\n",
    "\n",
    "for i in Mchirp:\n",
    "  fpeak.append(empirical_relation( Mchirp = i  , R = 21.489485069694197))\n",
    "\n",
    "fpeak"
   ]
  },
  {
   "cell_type": "code",
   "execution_count": null,
   "id": "74ac9143-4105-4a73-aaaa-8d00c428290a",
   "metadata": {},
   "outputs": [],
   "source": []
  }
 ],
 "metadata": {
  "kernelspec": {
   "display_name": "Python 3 (ipykernel)",
   "language": "python",
   "name": "python3"
  },
  "language_info": {
   "codemirror_mode": {
    "name": "ipython",
    "version": 3
   },
   "file_extension": ".py",
   "mimetype": "text/x-python",
   "name": "python",
   "nbconvert_exporter": "python",
   "pygments_lexer": "ipython3",
   "version": "3.11.5"
  }
 },
 "nbformat": 4,
 "nbformat_minor": 5
}
