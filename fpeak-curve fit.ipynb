{
 "cells": [
  {
   "cell_type": "code",
   "execution_count": 116,
   "id": "cbb86e78-acaa-45b7-8622-38d9173b63e7",
   "metadata": {},
   "outputs": [],
   "source": [
    "import numpy as np\n",
    "import matplotlib.pyplot as plot \n",
    "import scipy\n",
    "from scipy.optimize import curve_fit\n",
    "import pandas as pd"
   ]
  },
  {
   "cell_type": "code",
   "execution_count": 117,
   "id": "1e3e5dfa-d4de-477b-a1b7-c5805c686cc2",
   "metadata": {},
   "outputs": [],
   "source": [
    "#Units conversion from geometrical units\n",
    "\n",
    "G = 6.67*10**(-11)\n",
    "c = 3*10**8\n",
    "k = (c**2)/G\n",
    "k1 = (((10**-3))/(k*(1.98*10**30)))"
   ]
  },
  {
   "cell_type": "code",
   "execution_count": 118,
   "id": "6d630f7b-c031-452e-8a3b-0a5c5606fd79",
   "metadata": {},
   "outputs": [],
   "source": [
    "#loading the data\n",
    "\n",
    "df = pd.read_csv(\"data from plotanalyser.csv\")"
   ]
  },
  {
   "cell_type": "code",
   "execution_count": 119,
   "id": "a578cf5b-3743-4fff-8546-0e13715aebee",
   "metadata": {},
   "outputs": [
    {
     "data": {
      "text/plain": [
       "(array([1.83825465, 2.09968526, 2.00830711, 2.18742012, 2.21046257,\n",
       "        2.39811159, 2.525732  , 2.65661421, 2.63895088, 2.53894134,\n",
       "        2.88044826, 2.80630424, 3.31563186, 3.45515498, 3.492103  ]),\n",
       " array([0.05446346, 0.06096341, 0.0618289 , 0.06564959, 0.06404527,\n",
       "        0.06800013, 0.07295565, 0.07503507, 0.07891388, 0.0803141 ,\n",
       "        0.08521227, 0.08520897, 0.09312465, 0.09460245, 0.09547366]))"
      ]
     },
     "execution_count": 119,
     "metadata": {},
     "output_type": "execute_result"
    }
   ],
   "source": [
    "#Converting the data fromm \n",
    "\n",
    "fpeak  = df['fpeak'].to_numpy()\n",
    "m_Xaxis = (df[\"(M/R^3)^1/2\"].to_numpy())\n",
    "fpeak , m_Xaxis"
   ]
  },
  {
   "cell_type": "code",
   "execution_count": 120,
   "id": "5f2e82fa-fd67-4d6b-bab4-c9c6e15f5af9",
   "metadata": {},
   "outputs": [
    {
     "data": {
      "text/plain": [
       "(38.24889509836317, -0.2927097279270208)"
      ]
     },
     "execution_count": 120,
     "metadata": {},
     "output_type": "execute_result"
    }
   ],
   "source": [
    "#Curve fit\n",
    "\n",
    "def function(m_Xaxis , a ,b):\n",
    "    return a*m_Xaxis + b\n",
    "\n",
    "coeffs, cov = curve_fit(function,m_Xaxis,fpeak)\n",
    "\n",
    "A,B = coeffs\n",
    "A,B"
   ]
  },
  {
   "cell_type": "code",
   "execution_count": 129,
   "id": "748054a3-6179-47a7-92f5-f3098a32573d",
   "metadata": {},
   "outputs": [
    {
     "data": {
      "text/plain": [
       "[2.74999956,\n",
       " 2.8749995399999997,\n",
       " 4.3749993,\n",
       " 2.91176424,\n",
       " 3.04411716,\n",
       " 4.6323522,\n",
       " 2.99264658,\n",
       " 3.1286759699999998,\n",
       " 4.76102865,\n",
       " 3.0735289199999998,\n",
       " 3.2132347799999996,\n",
       " 4.8897051,\n",
       " 3.2352936000000003,\n",
       " 3.3823524,\n",
       " 5.147058]"
      ]
     },
     "execution_count": 129,
     "metadata": {},
     "output_type": "execute_result"
    }
   ],
   "source": [
    "#Defining the Mtot\n",
    "\n",
    "def Mtot1(m1,q):\n",
    "   return m1*(1 + q)\n",
    "\n",
    "q = [0.7,0.8,0.85,0.9,1]\n",
    "m1 = [1.1,1.15,1.75]\n",
    "\n",
    "Mtot = []\n",
    "\n",
    "for i in q:\n",
    "    for j in m1:\n",
    "       Mtot.append(Mtot1(q = i ,m1 = j)*1.470588)#Scaling factor\n",
    "\n",
    "Mtot\n"
   ]
  },
  {
   "cell_type": "code",
   "execution_count": 130,
   "id": "6102ceeb-ff84-4507-81fb-20cbdd7154ff",
   "metadata": {},
   "outputs": [
    {
     "data": {
      "text/plain": [
       "[1.7435464474835376,\n",
       " 1.7893107273218702,\n",
       " 2.2756455329745515,\n",
       " 1.8025805904966217,\n",
       " 1.8496716459506612,\n",
       " 2.3501060324006118,\n",
       " 1.8314825119069722,\n",
       " 1.8792231298449766,\n",
       " 2.3865603856400663,\n",
       " 1.8599964352689837,\n",
       " 1.908377895544895,\n",
       " 2.422525352111439,\n",
       " 1.915920193912371,\n",
       " 1.9655585247977236,\n",
       " 2.4930626850146402]"
      ]
     },
     "execution_count": 130,
     "metadata": {},
     "output_type": "execute_result"
    }
   ],
   "source": [
    "#Defining the EoS: k = 0.05 , GA = 5/3  value and Rmax = 9.90\n",
    " \n",
    "def formula(Mtot1 , Rmax):\n",
    "   return (38.24889509836317)*((Mtot1/(Rmax)**3)**0.5) - 0.2927097279270208\n",
    "    \n",
    "\n",
    "fpeak = []\n",
    "#k = (G/c**2)\n",
    "\n",
    "for i in Mtot:\n",
    " fpeak.append(formula(Mtot1 = i , Rmax = 9.90))   \n",
    "\n",
    "fpeak"
   ]
  },
  {
   "cell_type": "code",
   "execution_count": 131,
   "id": "94c17a59-aef7-4f26-8155-446cdd5e6e1f",
   "metadata": {},
   "outputs": [
    {
     "data": {
      "text/plain": [
       "Text(0.5, 0, '$M_{tot}$')"
      ]
     },
     "execution_count": 131,
     "metadata": {},
     "output_type": "execute_result"
    },
    {
     "data": {
      "image/png": "[encoded data removed]",
      "text/plain": [
       "<Figure size 640x480 with 1 Axes>"
      ]
     },
     "metadata": {},
     "output_type": "display_data"
    }
   ],
   "source": [
    "#Plotting \n",
    "plot.plot(Mtot,fpeak)\n",
    "plot.ylabel(\"$f_{peak} (KHz)$\")\n",
    "plot.xlabel(\"$M_{tot}$\")"
   ]
  },
  {
   "cell_type": "code",
   "execution_count": 124,
   "id": "b877fa21-5739-42c2-bfba-279a64ddc5aa",
   "metadata": {},
   "outputs": [],
   "source": [
    "##Empirical Relation"
   ]
  },
  {
   "cell_type": "code",
   "execution_count": 132,
   "id": "59dff243-00fb-40b4-b452-62761d480dd4",
   "metadata": {},
   "outputs": [],
   "source": [
    "#fpeak from Vretinaris numerical simulation paper (R_1.4)\n",
    "\n",
    "def Mchirp1(m1,q):\n",
    "    return ((q*(m1**2))**(3/5))/((m1+q*m1)**1/5)\n",
    "\n",
    "def empirical_relation(Mchirp,R):\n",
    "    b0 = 1.5220\n",
    "    b1 = 8.4021\n",
    "    b2 = 2.3876\n",
    "    b3 = -1.1133\n",
    "    b4 = -0.1291\n",
    "    b5 = 0.0366\n",
    "    bs = np.array([ 1.52195893,  8.40212799,  2.38758442, -1.11330912, -0.12909556,\n",
    "        0.03661978])\n",
    "    quants = np.array([1, Mchirp, Mchirp**2, Mchirp*R, R*Mchirp**2, Mchirp*R**2])\n",
    "    #return np.dot(bs, quants)\n",
    "    return b0 + b1*(Mchirp) + b2*(Mchirp**2) + b3*(Mchirp*R) + b4*((Mchirp**2)*R) + b5*(Mchirp*(R**2))\n"
   ]
  },
  {
   "cell_type": "code",
   "execution_count": 136,
   "id": "37552af7-25e1-4657-946d-301d20a0c078",
   "metadata": {},
   "outputs": [
    {
     "data": {
      "text/plain": [
       "[2.2415027959086977,\n",
       " 2.2615193913810114,\n",
       " 2.45962193599092,\n",
       " 2.29685964220653,\n",
       " 2.317370573711344,\n",
       " 2.520365520031924,\n",
       " 2.344333043179584,\n",
       " 2.365267911636298,\n",
       " 2.5724585259485555,\n",
       " 2.385133054482064,\n",
       " 2.4064322665938453,\n",
       " 2.6172287591025913,\n",
       " 2.4202400536436843,\n",
       " 2.44185277087433,\n",
       " 2.6557519969064196]"
      ]
     },
     "execution_count": 136,
     "metadata": {},
     "output_type": "execute_result"
    }
   ],
   "source": [
    "#Defining the Mchirp\n",
    "\n",
    "q = [0.5,0.55,0.6,0.65,0.7]\n",
    "m1 = [1.1,1.15,1.75]\n",
    "#q = [1.2/1.3, 1.3/1.4, 1.4/1.5]\n",
    "\n",
    "Mchirp = []\n",
    "\n",
    "for i in q:\n",
    "    for j in m1:\n",
    "       Mchirp.append(Mchirp1(q = i ,m1 = j))\n",
    "Mchirp"
   ]
  },
  {
   "cell_type": "code",
   "execution_count": 127,
   "id": "54676149-0238-4224-a3ee-6db852d2ac0d",
   "metadata": {},
   "outputs": [
    {
     "data": {
      "text/plain": [
       "[2.958524140000003,\n",
       " 3.1764858057777783,\n",
       " 3.4091855337777797,\n",
       " 3.656623324000003,\n",
       " 3.918799176444451,\n",
       " 4.1957130911111165,\n",
       " 4.487365068000001,\n",
       " 4.793755107111117,\n",
       " 5.114883208444449,\n",
       " 5.4507493720000015]"
      ]
     },
     "execution_count": 127,
     "metadata": {},
     "output_type": "execute_result"
    }
   ],
   "source": [
    "#Polytrope kappa = 0.05, Pc = 8.32199 , GA = 5/3,    R_1.6 = 11.27km\n",
    "Mchirp = np.linspace(1, 1.8, 10)\n",
    "fpeak = []\n",
    "\n",
    "for i in Mchirp:\n",
    "  fpeak.append(empirical_relation( Mchirp = i ,R = 11.27))\n",
    "\n",
    "fpeak"
   ]
  },
  {
   "cell_type": "code",
   "execution_count": null,
   "id": "e9a231cd-a227-4d71-9742-ca57b065bb83",
   "metadata": {},
   "outputs": [],
   "source": []
  },
  {
   "cell_type": "code",
   "execution_count": 128,
   "id": "74ac9143-4105-4a73-aaaa-8d00c428290a",
   "metadata": {},
   "outputs": [],
   "source": [
    "# #Mchirp1(q = 1.2/1.5 ,m1 = 1.5)\n",
    "# m1 = np.linspace(0.94, 1.94, 100)\n",
    "# m2 = m1[::-1]\n",
    "# q = m2/m1\n",
    "# Mchirp = [Mchirp1(_q, _m1) for (_q, _m1) in zip(q, m1)]\n",
    "# Mtot = m1+m2\n",
    "# plot.plot(Mtot, Mchirp)"
   ]
  },
  {
   "cell_type": "code",
   "execution_count": 74,
   "id": "2e5e7452-93ab-4f6b-9f8f-e2906c7bf322",
   "metadata": {},
   "outputs": [],
   "source": [
    "#empirical_relation( Mchirp = 2.63  , R = 12)"
   ]
  },
  {
   "cell_type": "code",
   "execution_count": 113,
   "id": "0b2b0c0a-7442-47a1-a69c-04ffce45ac16",
   "metadata": {},
   "outputs": [
    {
     "data": {
      "text/plain": [
       "[2.8706468064662944,\n",
       " 2.8650204403463624,\n",
       " 2.859336868315545,\n",
       " 2.8535982232796844,\n",
       " 2.8478065529383367,\n",
       " 2.8419638233016427,\n",
       " 2.8360719220336716,\n",
       " 2.830132661631983,\n",
       " 2.82414778245247,\n",
       " 2.8181189555880146,\n",
       " 2.8120477856088977,\n",
       " 2.805935813172431,\n",
       " 2.799784517508811,\n",
       " 2.7935953187897473,\n",
       " 2.78736958038602,\n",
       " 2.78110861101976,\n",
       " 2.7748136668168546,\n",
       " 2.7684859532646136,\n",
       " 2.7621266270794678,\n",
       " 2.7557367979892167,\n",
       " 2.7493175304340878,\n",
       " 2.742869845190592,\n",
       " 2.736394720921933,\n",
       " 2.729893095658546,\n",
       " 2.7233658682120785,\n",
       " 2.7168138995259814,\n",
       " 2.710238013965694,\n",
       " 2.703639000551198,\n",
       " 2.6970176141346203,\n",
       " 2.690374576525359,\n",
       " 2.683710577565108,\n",
       " 2.677026276154992,\n",
       " 2.6703223012369337,\n",
       " 2.6635992527312227,\n",
       " 2.656857702432178,\n",
       " 2.6500981948636633,\n",
       " 2.643321248096146,\n",
       " 2.636527354526874,\n",
       " 2.629716981624661,\n",
       " 2.6228905726407055,\n",
       " 2.6160485472867685,\n",
       " 2.6091913023819746,\n",
       " 2.602319212469417,\n",
       " 2.5954326304036965,\n",
       " 2.5885318879104564,\n",
       " 2.5816172961188935,\n",
       " 2.574689146068204,\n",
       " 2.567747709188834,\n",
       " 2.5607932377593694,\n",
       " 2.5538259653398554,\n",
       " 2.546846107182259,\n",
       " 2.5398538606187784,\n",
       " 2.532849405428626,\n",
       " 2.5258329041838907,\n",
       " 2.5188045025750347,\n",
       " 2.5117643297165357,\n",
       " 2.5047124984331566,\n",
       " 2.4976491055272754,\n",
       " 2.490574232027688,\n",
       " 2.483487943420236,\n",
       " 2.4763902898606007,\n",
       " 2.4692813063695525,\n",
       " 2.462161013010927,\n",
       " 2.4550294150525427,\n",
       " 2.4478865031102663,\n",
       " 2.440732253275386,\n",
       " 2.4335666272254186,\n",
       " 2.426389572318446,\n",
       " 2.419201021671049,\n",
       " 2.4120008942198696,\n",
       " 2.404789094766784,\n",
       " 2.397565514007668,\n",
       " 2.3903300285446707,\n",
       " 2.383082500881889,\n",
       " 2.3758227794043036,\n",
       " 2.3685506983397926,\n",
       " 2.3612660777040007,\n",
       " 2.353968723227809,\n",
       " 2.3466584262671075,\n",
       " 2.339334963694517,\n",
       " 2.331998097772684,\n",
       " 2.3246475760087084,\n",
       " 2.317283130989221,\n",
       " 2.3099044801955837,\n",
       " 2.302511325798615,\n",
       " 2.295103354432198,\n",
       " 2.2876802369450724,\n",
       " 2.2802416281300313,\n",
       " 2.2727871664296924,\n",
       " 2.265316473617931,\n",
       " 2.2578291544559894,\n",
       " 2.250324796322197,\n",
       " 2.2428029688141313,\n",
       " 2.2352632233219976,\n",
       " 2.227705092571841,\n",
       " 2.2201280901371576,\n",
       " 2.21253170991732,\n",
       " 2.204915425581111,\n",
       " 2.1972786899735355,\n",
       " 2.18962093448393]"
      ]
     },
     "execution_count": 113,
     "metadata": {},
     "output_type": "execute_result"
    }
   ],
   "source": [
    "Mchirp"
   ]
  },
  {
   "cell_type": "code",
   "execution_count": null,
   "id": "29f207ec-67be-4f7a-8edd-bf9f415734c5",
   "metadata": {},
   "outputs": [],
   "source": []
  }
 ],
 "metadata": {
  "kernelspec": {
   "display_name": "Python 3 (ipykernel)",
   "language": "python",
   "name": "python3"
  },
  "language_info": {
   "codemirror_mode": {
    "name": "ipython",
    "version": 3
   },
   "file_extension": ".py",
   "mimetype": "text/x-python",
   "name": "python",
   "nbconvert_exporter": "python",
   "pygments_lexer": "ipython3",
   "version": "3.11.5"
  }
 },
 "nbformat": 4,
 "nbformat_minor": 5
}
