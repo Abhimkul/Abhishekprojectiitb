{
 "cells": [
  {
   "cell_type": "code",
   "execution_count": 173,
   "id": "547a9346",
   "metadata": {},
   "outputs": [],
   "source": [
    "#def my_likelihood():\n",
    "#    return\n"
   ]
  },
  {
   "cell_type": "code",
   "execution_count": 174,
   "id": "71c5b53f",
   "metadata": {},
   "outputs": [],
   "source": [
    "##Priors Info\n",
    "\n",
    "# k1 = uniform(1.7*10**-9,1.06*10**-9)##...?\n",
    "# GA1 = uniform(1.4,3.6)\n",
    "# GA2 = uniform(0,8)\n",
    "# GA3 = uniform(0.5,7.5)\n",
    "# d1 = uniform(229.44,954.72)\n",
    "#d2 = uniform(d1 + 487.610 , 1652.93)"
   ]
  },
  {
   "cell_type": "code",
   "execution_count": 175,
   "id": "75338744",
   "metadata": {},
   "outputs": [],
   "source": [
    "#Conversion for scaling\n",
    "\n",
    "MeV = 1 \n",
    "GeV = 1000*MeV\n",
    "fm  = 1\n",
    "c   = 1\n",
    "metres = (10**15)*fm\n",
    "km = 1000*metres\n",
    "second = 2.99*(10**8)*metres\n",
    "kg = (second**2)/((1.6*(10**(-13)))*((metres)**2))\n",
    "G = 6.67*10**(-11)*((metres)**3)/(kg*(second)**2)\n",
    "mbar = 1.66*(10**-27)*kg\n",
    "\n",
    "import math\n",
    "dp = 10**-12\n",
    "mbar = 1.66*(10**-27)*kg\n",
    "pi = math.pi\n",
    "Rs = ((2*G*(1.98847*(10**30)*kg))/((c**2)))\n",
    "K1 =  ((4*pi*(Rs**3))/(1.98847*((10**30)*kg)*(c**2)))*(GeV/(fm)**3)\n",
    "\n",
    "#importing libraries\n",
    "import numpy as np\n",
    "import scipy\n",
    "import matplotlib.pyplot as plot\n",
    "from scipy.integrate import odeint\n",
    "from scipy.stats import uniform\n",
    "\n",
    "#SFHx\n",
    "class TOV_Solver:\n",
    "    def __init__(self,Pc,p1,p2,k1,GA1,GA2,GA3,GA1_R,GA2_R,GA3_R,GA4_R,k1_R,\n",
    "                 k2_R,k3_R,k4_R,P1_Read,P2_Read,P3_Read):\n",
    "        self.Pc = Pc\n",
    "        self.p1 = p1\n",
    "        self.p2 = p2\n",
    "        self.k1 = k1\n",
    "        self.GA1 = GA1\n",
    "        self.GA2 = GA2\n",
    "        self.GA3 = GA3\n",
    "        self.GA1_R = GA1_R\n",
    "        self.GA2_R = GA2_R\n",
    "        self.GA3_R = GA3_R\n",
    "        self.GA4_R = GA4_R\n",
    "        self.k1_R = k1_R\n",
    "        self.k2_R = k2_R\n",
    "        self.k3_R = k3_R\n",
    "        self.k4_R = k4_R\n",
    "        self.P1_Read = P1_Read\n",
    "        self.P2_Read = P2_Read\n",
    "        self.P3_Read = P3_Read\n",
    "    \n",
    "    def piecewise_polytrope_SFHx(self,p):\n",
    "    \n",
    "        k2 = self.p1/((self.p1/self.k1)**(1/self.GA1) + self.p1/(self.GA1-1) - self.p1/(self.GA2-1))**self.GA2\n",
    "        k3 = self.p2/((self.p2/k2)**(1/self.GA2) + self.p2/(self.GA2-1) - self.p2/(self.GA3-1))**self.GA3\n",
    "        \n",
    "        condition1_Read = p < P1_Read\n",
    "        condition2_Read = (p >= P1_Read) & (p < P2_Read)\n",
    "        condition3_Read = (p >= P2_Read) & (p < P3_Read)\n",
    "                \n",
    "        condition1 = (p >= P3_Read) & (p < self.p1)\n",
    "        condition2 = (p >= self.p1) & (p < self.p2)\n",
    "        condition3 = (p >= self.p2) \n",
    "    \n",
    "        condition = [condition1_Read,condition2_Read,condition3_Read,\n",
    "                    condition1, condition2, condition3]\n",
    "        Polytrope1 = lambda p: ((GeV*p/self.k1)**(1/self.GA1) + (p*GeV/(self.GA1-1)))/GeV\n",
    "        Polytrope2 = lambda p: ((GeV*p/k2)**(1/self.GA2) + (p*GeV/(self.GA2-1)))/GeV\n",
    "        Polytrope3 = lambda p: ((GeV*p/k3)**(1/self.GA3) + (p*GeV/(self.GA3-1)))/GeV\n",
    "        \n",
    "        Polytrope1_Read = lambda p: ((GeV*p/self.k1_R)**(1/self.GA1_R) + (p*GeV/(self.GA1_R-1)))/GeV\n",
    "        Polytrope2_Read = lambda p: ((GeV*p/self.k2_R)**(1/self.GA2_R) + (p*GeV/(self.GA2_R-1)))/GeV\n",
    "        Polytrope3_Read = lambda p: ((GeV*p/self.k3_R)**(1/self.GA3_R) + (p*GeV/(self.GA3_R-1)))/GeV\n",
    "        Polytrope4_Read = lambda p: ((GeV*p/self.k4_R)**(1/self.GA4_R) + (p*GeV/(self.GA4_R-1)))/GeV\n",
    "        function_list = [Polytrope1_Read, Polytrope2_Read, Polytrope3_Read, \n",
    "                         Polytrope4_Read, Polytrope1 , Polytrope2 , Polytrope3]\n",
    "        \n",
    "        d = (np.piecewise(p, condition, function_list))\n",
    "        return (d)\n",
    "\n",
    "    def R0(self,k,GA):\n",
    "            dc = (mbar*(self.Pc*(GeV)/k)**(1/GA) + (self.Pc*(GeV)/(GA - 1)))/(GeV)\n",
    "            P = self.Pc - dp \n",
    "            d = (mbar*(P*GeV/k)**(1/GA) +(P*GeV/(GA - 1)))/GeV\n",
    "            nc = (((self.Pc*GeV)/k)**(1/GA))/GeV\n",
    "            n = (((P*GeV)/k)**(1/GA))/GeV\n",
    "            return  (((3/(2*pi*(3*self.Pc + dc)))*((math.log((dc + self.Pc)*n) - ((math.log((d + P)*nc)))))))**(0.5)\n",
    "\n",
    "    def M0(self,k,GA):\n",
    "            dc = (mbar*(self.Pc*(GeV)/k)**(1/GA) + (self.Pc*(GeV)/(GA - 1)))/(GeV)\n",
    "            P = self.Pc - dp\n",
    "            d = (mbar*(P*GeV/k)**(1/GA) +(P*GeV/(GA - 1)))/GeV\n",
    "            nc = (((self.Pc*GeV)/k)**(1/GA))/GeV\n",
    "            n = (((P*GeV)/k)**(1/GA))/GeV\n",
    "            return ((((((math.log((dc + self.Pc)*n) - ((math.log((d + P)*nc)))))*(2*dc/(3*self.Pc + dc))))))*self.R0(k,GA)\n",
    "    \n",
    "        \n",
    "    def f(self,x,P):\n",
    "        m,r = x\n",
    "        d = self.piecewise_polytrope_SFHx(P)\n",
    "        dmdp = -(2*K1*(r**3)*d*(r-m))/((d + P)*(m + K1*P*(r**3)))\n",
    "        drdp = -(2*r*(r - m))/((d + P)*(m + K1*P*(r**3)))\n",
    "        return [dmdp , drdp]  \n",
    "            \n",
    "            \n",
    "    def compute_MR(self):\n",
    "        k2 = self.p1/((self.p1/self.k1)**(1/self.GA1) + self.p1/(self.GA1-1) - self.p1/(self.GA2-1))**self.GA2\n",
    "        k3 = self.p2/((self.p2/k2)**(1/self.GA2) + self.p2/(self.GA2-1) - self.p2/(self.GA3-1))**self.GA3\n",
    "       \n",
    "        Ro =  self.R0(k = k3, GA = self.GA3)\n",
    "        Mo =  self.M0(k = k3, GA = self.GA3)\n",
    "\n",
    "        R = []\n",
    "        M = []\n",
    "        x_i = [Mo,Ro]\n",
    "                         \n",
    "        P0 = self.Pc - dp\n",
    "            \n",
    "        P1 = np.linspace(1e-6, P0, 1000)\n",
    "        solve = odeint(self.f,x_i, P1[::-1])\n",
    "                          \n",
    "        m = solve[:,0]\n",
    "        r = solve[:,1]\n",
    "\n",
    "        M = (m[-2])\n",
    "        R = (r[-2])*(Rs/km)\n",
    "        return \"M:\",M ,\"R:\",R"
   ]
  },
  {
   "cell_type": "code",
   "execution_count": 176,
   "id": "a1842953",
   "metadata": {
    "scrolled": true
   },
   "outputs": [
    {
     "name": "stderr",
     "output_type": "stream",
     "text": [
      "/tmp/ipykernel_5144/2366035154.py:70: RuntimeWarning: invalid value encountered in power\n",
      "  Polytrope1_Read = lambda p: ((GeV*p/self.k1_R)**(1/self.GA1_R) + (p*GeV/(self.GA1_R-1)))/GeV\n"
     ]
    },
    {
     "data": {
      "text/plain": [
       "('M:', 1.602295675679106, 'R:', 11.696637600843621)"
      ]
     },
     "execution_count": 176,
     "metadata": {},
     "output_type": "execute_result"
    }
   ],
   "source": [
    "A = TOV_Solver(Pc = 227.99999, \n",
    "               p1 = 0.053955053, \n",
    "               p2 = 0.797522989, \n",
    "               k1 = 1.8426632601064867, \n",
    "               GA1 = 3.88632843, \n",
    "               GA2 = 2.71342162,\n",
    "               GA3 = 1.53107396,\n",
    "               GA1_R = 1.58425, \n",
    "               GA2_R = 1.28733, \n",
    "               GA3_R = 0.62223,\n",
    "               GA4_R = 1.35692, \n",
    "               k1_R = 2.8268581285298255e-16,\n",
    "               k2_R = 5.063768639559009e-19,\n",
    "               k3_R = 3.5610797610513604e-25 ,\n",
    "               k4_R = 2.2297511225728095e-18, \n",
    "               P1_Read= 2.1445291264915162e-33,\n",
    "               P2_Read= 5.332626487963225e-28,\n",
    "               P3_Read = 1.7762371605771977e-27)\n",
    "\n",
    "\n",
    "A.compute_MR()"
   ]
  },
  {
   "cell_type": "code",
   "execution_count": 185,
   "id": "1a783dc0",
   "metadata": {},
   "outputs": [],
   "source": [
    "polytrope1 = lambda k,d,GA: k*(d)**GA\n",
    "\n",
    "P1_Read = polytrope1(k = 6.80110*10**(-9), d = 2.44034*10**7, GA = 1.58425)\n",
    "P2_Read = polytrope1(k = 5.32697*10**1 , d = 3.78358*10**11, GA = 0.62233)\n",
    "P3_Read = polytrope1(k = 3.99874*10**-8, d = 2.62780*10**12, GA = 1.35692)"
   ]
  },
  {
   "cell_type": "code",
   "execution_count": 186,
   "id": "c4128fe4",
   "metadata": {},
   "outputs": [
    {
     "data": {
      "text/plain": [
       "2.1445291264915162e-33"
      ]
     },
     "execution_count": 186,
     "metadata": {},
     "output_type": "execute_result"
    }
   ],
   "source": [
    "P1_Read*0.624*10**-33/GeV"
   ]
  },
  {
   "cell_type": "code",
   "execution_count": 187,
   "id": "763e8290",
   "metadata": {},
   "outputs": [
    {
     "data": {
      "text/plain": [
       "5.332626487963225e-28"
      ]
     },
     "execution_count": 187,
     "metadata": {},
     "output_type": "execute_result"
    }
   ],
   "source": [
    "P2_Read*0.624*10**-33/GeV"
   ]
  },
  {
   "cell_type": "code",
   "execution_count": 188,
   "id": "f221d44c",
   "metadata": {},
   "outputs": [
    {
     "data": {
      "text/plain": [
       "1.7762371605771977e-27"
      ]
     },
     "execution_count": 188,
     "metadata": {},
     "output_type": "execute_result"
    }
   ],
   "source": [
    "P3_Read*0.624*10**-33/GeV"
   ]
  },
  {
   "cell_type": "code",
   "execution_count": 189,
   "id": "a12b2855",
   "metadata": {},
   "outputs": [],
   "source": [
    "GA1_R = 1.58425 \n",
    "GA2_R = 1.28733 \n",
    "GA3_R = 0.62223\n",
    "GA4_R = 1.35692 "
   ]
  },
  {
   "cell_type": "code",
   "execution_count": 182,
   "id": "a2799a13",
   "metadata": {},
   "outputs": [
    {
     "data": {
      "text/plain": [
       "2.8268581285298255e-16"
      ]
     },
     "execution_count": 182,
     "metadata": {},
     "output_type": "execute_result"
    }
   ],
   "source": [
    "k1_R = ((1.7827*10**12)**GA1_R/(1.6022*10**33))*(1000)**(1-GA1_R)\n",
    "k1_R"
   ]
  },
  {
   "cell_type": "code",
   "execution_count": 183,
   "id": "dffcb9c2",
   "metadata": {},
   "outputs": [
    {
     "data": {
      "text/plain": [
       "5.063768639559009e-19"
      ]
     },
     "execution_count": 183,
     "metadata": {},
     "output_type": "execute_result"
    }
   ],
   "source": [
    "k2_R = (((1.7827*10**12)**GA2_R)/((1.6022*10**33))*(1000)**(1-GA2_R))\n",
    "k2_R"
   ]
  },
  {
   "cell_type": "code",
   "execution_count": 184,
   "id": "2b4fae02",
   "metadata": {},
   "outputs": [
    {
     "data": {
      "text/plain": [
       "3.5610797610513604e-25"
      ]
     },
     "execution_count": 184,
     "metadata": {},
     "output_type": "execute_result"
    }
   ],
   "source": [
    "k3_R = (((1.7827*10**12)**GA3_R)/((1.6022*10**33))*(1000)**(1-GA3_R))\n",
    "k3_R"
   ]
  },
  {
   "cell_type": "code",
   "execution_count": 146,
   "id": "b36ccb6d",
   "metadata": {},
   "outputs": [
    {
     "data": {
      "text/plain": [
       "2.2297511225728095e-18"
      ]
     },
     "execution_count": 146,
     "metadata": {},
     "output_type": "execute_result"
    }
   ],
   "source": [
    "k4_R = (((1.7827*10**12)**GA4_R)/((1.6022*10**33))*(1000)**(1-GA4_R))\n",
    "k4_R"
   ]
  },
  {
   "cell_type": "code",
   "execution_count": null,
   "id": "a095f355",
   "metadata": {},
   "outputs": [],
   "source": []
  }
 ],
 "metadata": {
  "kernelspec": {
   "display_name": "Python 3 (ipykernel)",
   "language": "python",
   "name": "python3"
  },
  "language_info": {
   "codemirror_mode": {
    "name": "ipython",
    "version": 3
   },
   "file_extension": ".py",
   "mimetype": "text/x-python",
   "name": "python",
   "nbconvert_exporter": "python",
   "pygments_lexer": "ipython3",
   "version": "3.9.17"
  }
 },
 "nbformat": 4,
 "nbformat_minor": 5
}
