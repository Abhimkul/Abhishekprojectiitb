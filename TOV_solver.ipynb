{
 "cells": [
  {
   "cell_type": "code",
   "execution_count": 199,
   "metadata": {},
   "outputs": [],
   "source": [
    "#Initials - Pc and dp in natural units \n",
    "\n",
    "import math \n",
    "k = 2\n",
    "GA = 0.5\n",
    "pi = math.pi\n",
    "\n",
    "def R0(Pc,dp):\n",
    "   dc = (Pc/k)**(1/GA)\n",
    "   P = Pc - dp \n",
    "   return  ((3/(2*pi*(3*Pc + dc)))*((math.log(dc + Pc)) - (math.log((P/k)**(1/GA) + P))))**(0.5)\n",
    "\n",
    "def M0(Pc,dp):\n",
    "    dc = (Pc/k)**(1/GA)\n",
    "    P = Pc - dp \n",
    "    return (math.log((dc + Pc)) -(math.log((P/k)**(1/GA) + P)))*(2*dc/(3*Pc + dc))*R0(Pc,dp)\n"
   ]
  },
  {
   "cell_type": "code",
   "execution_count": 243,
   "metadata": {},
   "outputs": [
    {
     "name": "stderr",
     "output_type": "stream",
     "text": [
      "c:\\Users\\Abhimkul\\anaconda3\\lib\\site-packages\\scipy\\integrate\\odepack.py:247: ODEintWarning: Excess work done on this call (perhaps wrong Dfun type). Run with full_output = 1 to get quantitative information.\n",
      "  warnings.warn(warning_msg, ODEintWarning)\n"
     ]
    },
    {
     "data": {
      "text/plain": [
       "(6.666090212919478e-09, 0.03992830333920174, 5.165268628057983e+17)"
      ]
     },
     "execution_count": 243,
     "metadata": {},
     "output_type": "execute_result"
    },
    {
     "data": {
      "image/png": "[encoded data removed]",
      "text/plain": [
       "<Figure size 432x288 with 1 Axes>"
      ]
     },
     "metadata": {
      "needs_background": "light"
     },
     "output_type": "display_data"
    }
   ],
   "source": [
    "import numpy as np\n",
    "import math\n",
    "import matplotlib.pyplot as plot\n",
    "from scipy.integrate import odeint\n",
    "\n",
    "k = 2\n",
    "GA = 0.5\n",
    "pi = math.pi\n",
    "\n",
    "#Conversion for scaling\n",
    "MeV = 1 \n",
    "GeV = 1000*MeV\n",
    "fm  = 1\n",
    "c   = 1\n",
    "metres =(10**15)*fm\n",
    "second = 3*(10**8)*metres\n",
    "kg = (second**2)/(1.6*(10**-13))*((metres)**2)\n",
    "G = 6.67*10**(-11)*((metres)**3)/(kg*(second)**2)\n",
    "\n",
    "#Defining the values in terms\n",
    "Rs = ((2*G*(2*10**30*kg))/((c**2)*(metres/second)**2))**0.5\n",
    "K1 =  (4*pi*(Rs**3))/(2*((10**30)*kg)*(c**2)*(metres/second))*(GeV/(fm)**3)\n",
    "\n",
    "\n",
    "def f(x,P):\n",
    "   m,r = x\n",
    "   d = (P/k)**(1/GA)\n",
    "   dmdp = -(2*K1*(r**3)*d*(r-m))/((d + P)*(m + K1*P*(r**3)))\n",
    "   drdp = (2*r*(r - m))/((d + P)*(m + K1*P*(r**3)))\n",
    "   return [dmdp , drdp]\n",
    "\n",
    "\n",
    "#Initials\n",
    "Ro =  R0(Pc = 0.01,  dp = (10**(-6)))\n",
    "Mo =  M0(Pc = 0.01 ,  dp = (10**(-6)))\n",
    "\n",
    "x0 = [Mo,Ro]\n",
    "\n",
    "#P0 = Pc- dp\n",
    "P0 = 0.01 - (10**(-6))\n",
    "\n",
    "\n",
    "P = np.linspace(P0,0.1,1000)\n",
    "\n",
    "solve = odeint(f,x0, P)\n",
    "\n",
    "m =solve[:,0]\n",
    "r = solve[:,1]\n",
    "\n",
    "plot.plot(m,r)\n",
    "plot.xlabel(\"r\")\n",
    "plot.ylabel(\"m \")\n",
    "#plot.ylim(0,0.25*10**-6)\n",
    "\n",
    "Mo, Ro , Rs"
   ]
  }
 ],
 "metadata": {
  "kernelspec": {
   "display_name": "base",
   "language": "python",
   "name": "python3"
  },
  "language_info": {
   "codemirror_mode": {
    "name": "ipython",
    "version": 3
   },
   "file_extension": ".py",
   "mimetype": "text/x-python",
   "name": "python",
   "nbconvert_exporter": "python",
   "pygments_lexer": "ipython3",
   "version": "3.9.7"
  }
 },
 "nbformat": 4,
 "nbformat_minor": 2
}
