{
 "cells": [
  {
   "cell_type": "code",
   "execution_count": 283,
   "metadata": {},
   "outputs": [],
   "source": [
    "#Units Conversion\n",
    "MeV = 1 \n",
    "GeV = 1000*MeV\n",
    "fm  = 1\n",
    "c   = 1\n",
    "metres = (10**15)*fm\n",
    "km = 1000*metres\n",
    "second = 2.99*(10**8)*metres\n",
    "kg = (second**2)/((1.6*(10**(-13)))*((metres)**2))\n",
    "G = 6.67*10**(-11)*((metres)**3)/(kg*(second)**2)\n",
    "mbar = 1.66*(10**-27)*kg\n",
    "import scipy\n",
    "from scipy import optimize\n",
    "import numpy as np\n",
    "import matplotlib.pyplot as plot"
   ]
  },
  {
   "cell_type": "code",
   "execution_count": 234,
   "metadata": {},
   "outputs": [],
   "source": [
    "Pc = 127.99999 \n",
    "p1 = 0.053955053 \n",
    "p2 = 0.797522989 \n",
    "k1 = 2.0393291394356843 \n",
    "k2 = 0.7913093655277813\n",
    "k3 = 14.7225382691991\n",
    "GA1 = 3.88632843 \n",
    "GA2 = 2.71342162\n",
    "GA3 = 1.53107396\n",
    "GA1_R = 1.58425 \n",
    "GA2_R = 1.28733 \n",
    "GA3_R = 0.62223\n",
    "GA4_R = 1.35692 \n",
    "k1_R = 9.05323957276988e-13\n",
    "k2_R =  2.6819696245899045e-17\n",
    "k3_R = 1.9273549390975374e-27\n",
    "k4_R = 3.0887047163418073e-16  \n",
    "P1_Read= 2.1445291264915162e-33\n",
    "P2_Read= 5.332626487963225e-28\n",
    "P3_Read = 1.7762371605771977e-27"
   ]
  },
  {
   "cell_type": "code",
   "execution_count": 235,
   "metadata": {},
   "outputs": [],
   "source": [
    "def piecewise_polytrope_SFHx(p,p1,p2,k1,k2,k3,GA1,GA2,GA3):\n",
    "                                      \n",
    "    condition1 = (p < p1) \n",
    "    condition2 = (p >= p1) & (p < p2)\n",
    "    condition3 = (p >= p2) \n",
    "    \n",
    "    condition = [condition1, condition2, condition3]\n",
    "    Polytrope1 = lambda p: ((GeV*p/k1)**(1/GA1) + (p*GeV/(GA1-1)))/GeV\n",
    "    Polytrope2 = lambda p: ((GeV*p/k2)**(1/GA2) + (p*GeV/(GA2-1)))/GeV\n",
    "    Polytrope3 = lambda p: ((GeV*p/k3)**(1/GA3) + (p*GeV/(GA3-1)))/GeV\n",
    "        \n",
    "    function_list1 = [Polytrope1 , Polytrope2 , Polytrope3]\n",
    "        \n",
    "    d = (np.piecewise(p, condition, function_list1))\n",
    "    return (d)"
   ]
  },
  {
   "cell_type": "code",
   "execution_count": 238,
   "metadata": {},
   "outputs": [],
   "source": [
    "def piecewise_polytrope_4PPR(p,P1_Read,P2_Read,P3_Read,k1_R,k2_R,k3_R,k4_R,\n",
    "                             GA1_R,GA2_R,GA3_R,GA4_R):\n",
    "    condition1_Read = p < P1_Read\n",
    "    condition2_Read = (p >= P1_Read) & (p < P2_Read)\n",
    "    condition3_Read = (p >= P2_Read) & (p < P3_Read)\n",
    "    condition4_Read = (p >= P3_Read) \n",
    "    \n",
    "    condition_Read = [condition1_Read,condition2_Read,condition3_Read,condition4_Read]\n",
    "        \n",
    "    Polytrope1_Read = lambda p: ((GeV*p/k1_R)**(1/GA1_R) + (p*GeV/(GA1_R-1)))/GeV\n",
    "    Polytrope2_Read = lambda p: ((GeV*p/k2_R)**(1/GA2_R) + (p*GeV/(GA2_R-1)))/GeV\n",
    "    Polytrope3_Read = lambda p: ((GeV*p/k3_R)**(1/GA3_R) + (p*GeV/(GA3_R-1)))/GeV\n",
    "    Polytrope4_Read = lambda p: ((GeV*p/k4_R)**(1/GA4_R) + (p*GeV/(GA4_R-1)))/GeV\n",
    "    \n",
    "    function_list2 = [Polytrope1_Read,Polytrope2_Read,Polytrope3_Read,Polytrope4_Read]\n",
    "        \n",
    "    d = (np.piecewise(p, condition_Read, function_list2))\n",
    "    return (d)"
   ]
  },
  {
   "cell_type": "code",
   "execution_count": 290,
   "metadata": {},
   "outputs": [
    {
     "data": {
      "text/plain": [
       "<matplotlib.legend.Legend at 0x1fe74d01160>"
      ]
     },
     "execution_count": 290,
     "metadata": {},
     "output_type": "execute_result"
    },
    {
     "data": {
      "image/png": "[encoded data removed]",
      "text/plain": [
       "<Figure size 432x288 with 1 Axes>"
      ]
     },
     "metadata": {
      "needs_background": "light"
     },
     "output_type": "display_data"
    }
   ],
   "source": [
    "p = np.linspace(10**-40 ,1, 1000)\n",
    "plot.xscale(\"log\")\n",
    "plot.yscale(\"log\")\n",
    "plot.plot(p,piecewise_polytrope_SFHx(p,p1,p2,k1,k2,k3,GA1,GA2,GA3) ,label = \" SFHX\")\n",
    "plot.plot(p,piecewise_polytrope_4PPR(p,P1_Read,P2_Read,P3_Read,k1_R,k2_R,k3_R,k4_R,GA1_R,GA2_R,GA3_R,GA4_R) , label = \"4PPR\")\n",
    "plot.xlabel(\"Pressure\")\n",
    "plot.ylabel(\"Energy\")\n",
    "plot.legend()"
   ]
  },
  {
   "cell_type": "code",
   "execution_count": 291,
   "metadata": {},
   "outputs": [
    {
     "data": {
      "text/plain": [
       "array([1.16675237e-28])"
      ]
     },
     "execution_count": 291,
     "metadata": {},
     "output_type": "execute_result"
    }
   ],
   "source": [
    "def F(p):\n",
    "    A = piecewise_polytrope_SFHx(p,p1,p2,k1,k2,k3,GA1,GA2,GA3)\n",
    "    B = piecewise_polytrope_4PPR(p,P1_Read,P2_Read,P3_Read,k1_R,k2_R,k3_R,k4_R,GA1_R,GA2_R,GA3_R,GA4_R)\n",
    "    return np.abs(A-B)\n",
    "\n",
    "Pressure_root = optimize.fsolve(F,10**-27)\n",
    "Pressure_root"
   ]
  }
 ],
 "metadata": {
  "kernelspec": {
   "display_name": "base",
   "language": "python",
   "name": "python3"
  },
  "language_info": {
   "codemirror_mode": {
    "name": "ipython",
    "version": 3
   },
   "file_extension": ".py",
   "mimetype": "text/x-python",
   "name": "python",
   "nbconvert_exporter": "python",
   "pygments_lexer": "ipython3",
   "version": "3.9.7"
  }
 },
 "nbformat": 4,
 "nbformat_minor": 2
}
