{
 "cells": [
  {
   "cell_type": "code",
   "execution_count": 8,
   "metadata": {},
   "outputs": [],
   "source": [
    "#Units Conversion\n",
    "MeV = 1 \n",
    "GeV = 1000*MeV\n",
    "fm  = 1\n",
    "c   = 1\n",
    "metres = (10**15)*fm\n",
    "km = 1000*metres\n",
    "second = 2.99*(10**8)*metres\n",
    "kg = (second**2)/((1.6*(10**(-13)))*((metres)**2))\n",
    "G = 6.67*10**(-11)*((metres)**3)/(kg*(second)**2)\n",
    "mbar = 1.66*(10**-27)*kg\n",
    "import scipy\n",
    "from scipy import optimize\n",
    "import numpy as np\n",
    "import matplotlib.pyplot as plot"
   ]
  },
  {
   "cell_type": "code",
   "execution_count": 9,
   "metadata": {},
   "outputs": [],
   "source": [
    "#Inputs\n",
    "Pc = 127.99999 \n",
    "p1 = 5.49490219e+01\n",
    "p2 = 8.13601224e+02\n",
    "k1 = 4.80277404e-09\n",
    "GA1 = 3.85992626 \n",
    "GA2 = 2.62551522\n",
    "GA3 = 1.52897461\n",
    "GA1_R = 1.58425 \n",
    "GA2_R = 1.28733 \n",
    "GA3_R = 0.62223\n",
    "GA4_R = 1.35692 \n",
    "k1_R = 1.0880107180783372e-22\n",
    "k2_R =  3.913191632060814e-24\n",
    "k3_R = 1.3955710509544043e-24\n",
    "k4_R = 1.0493963716313493e-24  \n",
    "P1_Read= 2.1445291264915162e-30\n",
    "P2_Read= 5.332626487963225e-25\n",
    "P3_Read = 1.7762371605771977e-24"
   ]
  },
  {
   "cell_type": "code",
   "execution_count": 10,
   "metadata": {},
   "outputs": [],
   "source": [
    "#SFHx\n",
    "def piecewise_polytrope_SFHx(p,p1,p2,k1,GA1,GA2,GA3):\n",
    "\n",
    "    k2 = p1/((p1/k1)**(1/GA1) + p1/(GA1-1) - p1/(GA2-1))**GA2\n",
    "    k3 = p2/((p2/k2)**(1/GA2) + p2/(GA2-1) - p2/(GA3-1))**GA3\n",
    "                                      \n",
    "    condition1 = (p < p1) \n",
    "    condition2 = (p >= p1) & (p < p2)\n",
    "    condition3 = (p >= p2) \n",
    "    \n",
    "    condition = [condition1, condition2, condition3]\n",
    "    Polytrope1 = lambda p: ((p/k1)**(1/GA1) + (p/(GA1-1)))\n",
    "    Polytrope2 = lambda p: ((p/k2)**(1/GA2) + (p/(GA2-1)))\n",
    "    Polytrope3 = lambda p: ((p/k3)**(1/GA3) + (p/(GA3-1)))\n",
    "        \n",
    "    function_list1 = [Polytrope1 , Polytrope2 , Polytrope3]\n",
    "        \n",
    "    d = (np.piecewise(p, condition, function_list1))\n",
    "    return (d)"
   ]
  },
  {
   "cell_type": "code",
   "execution_count": 11,
   "metadata": {},
   "outputs": [],
   "source": [
    "#4PPR\n",
    "def piecewise_polytrope_4PPR(p,P1_Read,P2_Read,P3_Read,k1_R,k2_R,k3_R,k4_R,\n",
    "                             GA1_R,GA2_R,GA3_R,GA4_R):\n",
    "    condition1_Read = p < P1_Read\n",
    "    condition2_Read = (p >= P1_Read) & (p < P2_Read)\n",
    "    condition3_Read = (p >= P2_Read) & (p < P3_Read)\n",
    "    condition4_Read = (p >= P3_Read) \n",
    "    \n",
    "    condition_Read = [condition1_Read,condition2_Read,condition3_Read,condition4_Read]\n",
    "        \n",
    "    Polytrope1_Read = lambda p: ((p/k1_R)**(1/GA1_R) + (p/(GA1_R-1)))\n",
    "    Polytrope2_Read = lambda p: ((p/k2_R)**(1/GA2_R) + (p/(GA2_R-1)))\n",
    "    Polytrope3_Read = lambda p: ((p/k3_R)**(1/GA3_R) + (p/(GA3_R-1)))\n",
    "    Polytrope4_Read = lambda p: ((p/k4_R)**(1/GA4_R) + (p/(GA4_R-1)))\n",
    "    \n",
    "    function_list2 = [Polytrope1_Read,Polytrope2_Read,Polytrope3_Read,Polytrope4_Read]\n",
    "        \n",
    "    d = (np.piecewise(p, condition_Read, function_list2))\n",
    "    return (d)"
   ]
  },
  {
   "cell_type": "code",
   "execution_count": 13,
   "metadata": {},
   "outputs": [
    {
     "data": {
      "text/plain": [
       "<matplotlib.legend.Legend at 0x24ff0a61280>"
      ]
     },
     "execution_count": 13,
     "metadata": {},
     "output_type": "execute_result"
    },
    {
     "data": {
      "image/png": "[encoded data removed]",
      "text/plain": [
       "<Figure size 432x288 with 1 Axes>"
      ]
     },
     "metadata": {
      "needs_background": "light"
     },
     "output_type": "display_data"
    }
   ],
   "source": [
    "p = np.linspace(10**-40 ,10000, 100)\n",
    "plot.xscale(\"log\")\n",
    "plot.yscale(\"log\")\n",
    "plot.plot(piecewise_polytrope_SFHx(p,p1,p2,k1,GA1,GA2,GA3),p ,label = \" SFHX\")\n",
    "plot.plot(piecewise_polytrope_4PPR(p,P1_Read,P2_Read,P3_Read,k1_R,k2_R,k3_R,k4_R,GA1_R,GA2_R,GA3_R,GA4_R),p , label = \"4PPR\")\n",
    "plot.xlabel(\"Energy\")\n",
    "plot.ylabel(\"Pressure\")\n",
    "plot.legend()"
   ]
  },
  {
   "cell_type": "code",
   "execution_count": 7,
   "metadata": {},
   "outputs": [
    {
     "data": {
      "text/plain": [
       "3.4477591364045404e-35"
      ]
     },
     "execution_count": 7,
     "metadata": {},
     "output_type": "execute_result"
    }
   ],
   "source": [
    "def F(p):\n",
    "    A = piecewise_polytrope_SFHx(p,p1,p2,k1,GA1,GA2,GA3)\n",
    "    B = piecewise_polytrope_4PPR(p,P1_Read,P2_Read,P3_Read,k1_R,k2_R,k3_R,k4_R,GA1_R,GA2_R,GA3_R,GA4_R)\n",
    "    return np.abs(A-B)\n",
    "\n",
    "P_root = optimize.fsolve(F,10**-32)\n",
    "P_root[0]/GeV"
   ]
  }
 ],
 "metadata": {
  "kernelspec": {
   "display_name": "base",
   "language": "python",
   "name": "python3"
  },
  "language_info": {
   "codemirror_mode": {
    "name": "ipython",
    "version": 3
   },
   "file_extension": ".py",
   "mimetype": "text/x-python",
   "name": "python",
   "nbconvert_exporter": "python",
   "pygments_lexer": "ipython3",
   "version": "3.9.7"
  }
 },
 "nbformat": 4,
 "nbformat_minor": 2
}
