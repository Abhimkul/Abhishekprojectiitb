{
 "cells": [
  {
   "cell_type": "code",
   "execution_count": 16,
   "id": "547a9346",
   "metadata": {},
   "outputs": [],
   "source": [
    "#def my_likelihood():\n",
    "#    return\n"
   ]
  },
  {
   "cell_type": "code",
   "execution_count": 17,
   "id": "71c5b53f",
   "metadata": {},
   "outputs": [],
   "source": [
    "##Priors Info\n",
    "\n",
    "# k1 = uniform(1.7*10**-9,1.06*10**-9)##...?\n",
    "# GA1 = uniform(1.4,3.6)\n",
    "# GA2 = uniform(0,8)\n",
    "# GA3 = uniform(0.5,7.5)\n",
    "# d1 = uniform(229.44,954.72)\n",
    "#d2 = uniform(d1 + 487.610 , 1652.93)"
   ]
  },
  {
   "cell_type": "code",
   "execution_count": 18,
   "id": "75338744",
   "metadata": {},
   "outputs": [],
   "source": [
    "#Conversion for scaling\n",
    "\n",
    "MeV = 1 \n",
    "GeV = 1000*MeV\n",
    "fm  = 1\n",
    "c   = 1\n",
    "metres = (10**15)*fm\n",
    "km = 1000*metres\n",
    "second = 2.99*(10**8)*metres\n",
    "kg = (second**2)/((1.6*(10**(-13)))*((metres)**2))\n",
    "G = 6.67*10**(-11)*((metres)**3)/(kg*(second)**2)\n",
    "mbar = 1.66*(10**-27)*kg"
   ]
  },
  {
   "cell_type": "code",
   "execution_count": 19,
   "id": "aba2963b",
   "metadata": {},
   "outputs": [],
   "source": [
    "import numpy as np\n",
    "import scipy\n",
    "import matplotlib.pyplot as plot\n",
    "import math\n",
    "from scipy.integrate import odeint\n",
    "from scipy.stats import uniform"
   ]
  },
  {
   "cell_type": "code",
   "execution_count": 20,
   "id": "f450161c",
   "metadata": {},
   "outputs": [],
   "source": [
    "def piecewise_polytrope_SFHx(p, p1, p2, k1, GA1, GA2, GA3):\n",
    "    \n",
    "    k2 = p1/((p1/k1)**(1/GA1) + p1/(GA1-1) - p1/(GA2-1))**GA2\n",
    "    k3 = p2/((p2/k2)**(1/GA2) + p2/(GA2-1) - p2/(GA3-1))**GA3\n",
    "\n",
    "    condition1 = (p < p1)\n",
    "    condition2 = (p >= p1) & (p < p2)\n",
    "    condition3 = (p >= p2) \n",
    "    condition = [condition1, condition2, condition3]\n",
    "    Polytrope1 = lambda p: (p/k1)**(1/GA1) + (p/(GA1-1))\n",
    "    Polytrope2 = lambda p: (p/k2)**(1/GA2) + (p/(GA2-1))\n",
    "    Polytrope3 = lambda p: (p/k3)**(1/GA3) + (p/(GA3-1))\n",
    "    function_list = [Polytrope1 , Polytrope2 , Polytrope3]\n",
    "    d = (np.piecewise(p, condition, function_list))\n",
    "    \n",
    "    return (d)"
   ]
  },
  {
   "cell_type": "code",
   "execution_count": 26,
   "id": "10c7ff17",
   "metadata": {},
   "outputs": [],
   "source": [
    "#SFHx\n",
    "dp = 10**-12\n",
    "mbar = 1.66*(10**-27)*kg\n",
    "pi = math.pi\n",
    "Rs = ((2*G*(1.98847*(10**30)*kg))/((c**2)))\n",
    "K1 =  ((4*pi*(Rs**3))/(1.98847*((10**30)*kg)*(c**2)))*(GeV/(fm)**3)\n",
    "\n",
    "class TOV_Solver:\n",
    "    def __init__(self,Pc,p1,p2,k1,GA1,GA2,GA3):\n",
    "        self.Pc = Pc\n",
    "        self.p1 = p1\n",
    "        self.p2 = p2\n",
    "        self.k1 = k1\n",
    "        self.GA1 = GA1\n",
    "        self.GA2 = GA2\n",
    "        self.GA3 = GA3\n",
    "        \n",
    "    def R0(self,Pc,GA,k):\n",
    "            dc = (mbar*(self.Pc*(GeV)/k)**(1/GA) + (self.Pc*(GeV)/(GA - 1)))/(GeV)\n",
    "            P = self.Pc - dp \n",
    "            d = (mbar*(P*GeV/k)**(1/GA) +(P*GeV/(GA - 1)))/GeV\n",
    "            nc = (((Pc*GeV)/k)**(1/GA))/GeV\n",
    "            n = (((P*GeV)/k)**(1/GA))/GeV\n",
    "            return  (((3/(2*pi*(3*self.Pc + dc)))*((math.log((dc + self.Pc)*n) - ((math.log((d + P)*nc)))))))**(0.5)\n",
    "\n",
    "    def M0(self):\n",
    "            dc = (mbar*(Pc*(GeV)/k)**(1/GA) + (Pc*(GeV)/(GA - 1)))/(GeV)\n",
    "            P = Pc - dp\n",
    "            d = (mbar*(P*GeV/k)**(1/GA) +(P*GeV/(GA - 1)))/GeV\n",
    "            nc = (((Pc*GeV)/k)**(1/GA))/GeV\n",
    "            n = (((P*GeV)/k)**(1/GA))/GeV\n",
    "            return ((((((math.log((dc + Pc)*n) - ((math.log((d + P)*nc)))))*(2*dc/(3*Pc + dc))))))*R0(Pc,dp)\n",
    "        \n",
    "    def f(self):\n",
    "        m,r = x\n",
    "        d = piecewise_polytrope_SFHx(P,self.p1,self.p2,self.k1,self.GA1,self.GA2,self.GA3)/GeV\n",
    "        dmdp = -(2*K1*(r**3)*d*(r-m))/((d + P)*(m + K1*P*(r**3)))\n",
    "        drdp = -(2*r*(r - m))/((d + P)*(m + K1*P*(r**3)))\n",
    "        return [dmdp , drdp]  \n",
    "            \n",
    "            \n",
    "    def compute_MR(self):\n",
    "        \n",
    "                 \n",
    "        Ro =  R0(Pc = self.Pc/GeV,  dp = dp)\n",
    "        Mo =  M0(Pc = self.Pc/GeV,  dp = dp)\n",
    "        R = []\n",
    "        M = []\n",
    "        x_i = [Mo,Ro]\n",
    "                         \n",
    "        P0 = Pc/GeV - dp\n",
    "            \n",
    "        P1 = np.linspace(1e-12, P0, 1000)\n",
    "        solve = odeint(f,x_i, P1[::-1])\n",
    "                          \n",
    "        m = solve[:,0]\n",
    "        r = solve[:,1]\n",
    "\n",
    "        M = (m[-1])\n",
    "        R = (r[-1])*(Rs/km)\n",
    "        return \"M:\",M ,\"R:\" ,R \n",
    "    "
   ]
  },
  {
   "cell_type": "code",
   "execution_count": 27,
   "id": "899640ce",
   "metadata": {},
   "outputs": [
    {
     "ename": "NameError",
     "evalue": "name 'R0' is not defined",
     "output_type": "error",
     "traceback": [
      "\u001b[0;31m---------------------------------------------------------------------------\u001b[0m",
      "\u001b[0;31mNameError\u001b[0m                                 Traceback (most recent call last)",
      "Cell \u001b[0;32mIn[27], line 1\u001b[0m\n\u001b[0;32m----> 1\u001b[0m \u001b[43mTOV_Solver\u001b[49m\u001b[38;5;241;43m.\u001b[39;49m\u001b[43mcompute_MR\u001b[49m\u001b[43m(\u001b[49m\u001b[38;5;241;43m1000\u001b[39;49m\u001b[43m)\u001b[49m\n",
      "Cell \u001b[0;32mIn[26], line 45\u001b[0m, in \u001b[0;36mTOV_Solver.compute_MR\u001b[0;34m(self)\u001b[0m\n\u001b[1;32m     42\u001b[0m \u001b[38;5;28;01mdef\u001b[39;00m \u001b[38;5;21mcompute_MR\u001b[39m(\u001b[38;5;28mself\u001b[39m):\n\u001b[0;32m---> 45\u001b[0m     Ro \u001b[38;5;241m=\u001b[39m  \u001b[43mR0\u001b[49m(Pc \u001b[38;5;241m=\u001b[39m \u001b[38;5;28mself\u001b[39m\u001b[38;5;241m.\u001b[39mPc\u001b[38;5;241m/\u001b[39mGeV,  dp \u001b[38;5;241m=\u001b[39m dp)\n\u001b[1;32m     46\u001b[0m     Mo \u001b[38;5;241m=\u001b[39m  M0(Pc \u001b[38;5;241m=\u001b[39m \u001b[38;5;28mself\u001b[39m\u001b[38;5;241m.\u001b[39mPc\u001b[38;5;241m/\u001b[39mGeV,  dp \u001b[38;5;241m=\u001b[39m dp)\n\u001b[1;32m     47\u001b[0m     R \u001b[38;5;241m=\u001b[39m []\n",
      "\u001b[0;31mNameError\u001b[0m: name 'R0' is not defined"
     ]
    }
   ],
   "source": [
    "TOV_Solver.compute_MR(1000)"
   ]
  }
 ],
 "metadata": {
  "kernelspec": {
   "display_name": "Python 3 (ipykernel)",
   "language": "python",
   "name": "python3"
  },
  "language_info": {
   "codemirror_mode": {
    "name": "ipython",
    "version": 3
   },
   "file_extension": ".py",
   "mimetype": "text/x-python",
   "name": "python",
   "nbconvert_exporter": "python",
   "pygments_lexer": "ipython3",
   "version": "3.9.17"
  }
 },
 "nbformat": 4,
 "nbformat_minor": 5
}
