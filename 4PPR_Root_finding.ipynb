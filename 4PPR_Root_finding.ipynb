{
 "cells": [
  {
   "cell_type": "code",
   "execution_count": 115,
   "id": "ea512d88",
   "metadata": {},
   "outputs": [],
   "source": [
    "#Units Conversion\n",
    "MeV = 1 \n",
    "GeV = 1000*MeV\n",
    "fm  = 1\n",
    "c   = 1\n",
    "metres = (10**15)*fm\n",
    "km = 1000*metres\n",
    "second = 2.99*(10**8)*metres\n",
    "kg = (second**2)/((1.6*(10**(-13)))*((metres)**2))\n",
    "G = 6.67*10**(-11)*((metres)**3)/(kg*(second)**2)\n",
    "mbar = 1.66*(10**-27)*kg\n",
    "import scipy\n",
    "from scipy import optimize\n",
    "import numpy as np\n",
    "import matplotlib.pyplot as plot"
   ]
  },
  {
   "cell_type": "code",
   "execution_count": 116,
   "id": "eda9a654",
   "metadata": {},
   "outputs": [],
   "source": [
    "#Pc = 227.99999 \n",
    "p1 = 0.053955053 \n",
    "p2 = 0.797522989 \n",
    "k1 = 1.8426632601064867 \n",
    "GA1 = 3.88632843 \n",
    "GA2 = 2.71342162\n",
    "GA3 = 1.53107396\n",
    "GA1_R = 1.58425 \n",
    "GA2_R = 1.28733 \n",
    "GA3_R = 0.62223\n",
    "GA4_R = 1.35692 \n",
    "k1_R = 2.8268581285298255e-16\n",
    "k2_R = 5.063768639559009e-19\n",
    "k3_R = 3.5610797610513604e-25\n",
    "k4_R = 2.2297511225728095e-18 \n",
    "P1_Read= 2.1445291264915162e-33\n",
    "P2_Read= 5.332626487963225e-28\n",
    "P3_Read = 1.7762371605771977e-27"
   ]
  },
  {
   "cell_type": "code",
   "execution_count": 117,
   "id": "a8fadc95",
   "metadata": {},
   "outputs": [],
   "source": [
    "def piecewise_polytrope_SFHx(p,p1,p2,k1,GA1,GA2,GA3):\n",
    "    \n",
    "    k2 = p1/((p1/k1)**(1/GA1) + p1/(GA1-1) - p1/(GA2-1))**GA2\n",
    "    k3 = p2/((p2/k2)**(1/GA2) + p2/(GA2-1) - p2/(GA3-1))**GA3\n",
    "                               \n",
    "    condition1 = (p < p1) \n",
    "    condition2 = (p >= p1) & (p < p2)\n",
    "    condition3 = (p >= p2) \n",
    "    \n",
    "    condition = [condition1, condition2, condition3]\n",
    "    Polytrope1 = lambda p: ((GeV*p/k1)**(1/GA1) + (p*GeV/(GA1-1)))/GeV\n",
    "    Polytrope2 = lambda p: ((GeV*p/k2)**(1/GA2) + (p*GeV/(GA2-1)))/GeV\n",
    "    Polytrope3 = lambda p: ((GeV*p/k3)**(1/GA3) + (p*GeV/(GA3-1)))/GeV\n",
    "        \n",
    "    function_list1 = [Polytrope1 , Polytrope2 , Polytrope3]\n",
    "        \n",
    "    d = (np.piecewise(p, condition, function_list1))\n",
    "    return (d)\n"
   ]
  },
  {
   "cell_type": "code",
   "execution_count": 118,
   "id": "d0524bc5",
   "metadata": {},
   "outputs": [],
   "source": [
    "def piecewise_polytrope_4PPR(p,P1_Read,P2_Read,P3_Read,k1_R,k2_R,k3_R,k4_R,\n",
    "                             GA1_R,GA2_R,GA3_R,GA4_R):\n",
    "    condition1_Read = p < P1_Read\n",
    "    condition2_Read = (p >= P1_Read) & (p < P2_Read)\n",
    "    condition3_Read = (p >= P2_Read) & (p < P3_Read)\n",
    "    condition4_Read = (p >= P3_Read) \n",
    "    \n",
    "    condition_Read = [condition1_Read,condition2_Read,condition3_Read,condition4_Read]\n",
    "        \n",
    "    Polytrope1_Read = lambda p: ((GeV*p/k1_R)**(1/GA1_R) + (p*GeV/(GA1_R-1)))/GeV\n",
    "    Polytrope2_Read = lambda p: ((GeV*p/k2_R)**(1/GA2_R) + (p*GeV/(GA2_R-1)))/GeV\n",
    "    Polytrope3_Read = lambda p: ((GeV*p/k3_R)**(1/GA3_R) + (p*GeV/(GA3_R-1)))/GeV\n",
    "    Polytrope4_Read = lambda p: ((GeV*p/k4_R)**(1/GA4_R) + (p*GeV/(GA4_R-1)))/GeV\n",
    "    \n",
    "    function_list2 = [Polytrope1_Read,Polytrope2_Read,Polytrope3_Read,Polytrope4_Read]\n",
    "        \n",
    "    d = (np.piecewise(p, condition_Read, function_list2))\n",
    "    return (d)"
   ]
  },
  {
   "cell_type": "code",
   "execution_count": 119,
   "id": "d31aecc4",
   "metadata": {},
   "outputs": [
    {
     "name": "stderr",
     "output_type": "stream",
     "text": [
      "/tmp/ipykernel_22429/4263053185.py:11: RuntimeWarning: invalid value encountered in power\n",
      "  Polytrope1 = lambda p: ((GeV*p/k1)**(1/GA1) + (p*GeV/(GA1-1)))/GeV\n",
      "/tmp/ipykernel_22429/1187465762.py:10: RuntimeWarning: invalid value encountered in power\n",
      "  Polytrope1_Read = lambda p: ((GeV*p/k1_R)**(1/GA1_R) + (p*GeV/(GA1_R-1)))/GeV\n"
     ]
    },
    {
     "ename": "RuntimeError",
     "evalue": "Tolerance of nan reached. Failed to converge after 4 iterations, value is nan.",
     "output_type": "error",
     "traceback": [
      "\u001b[0;31m---------------------------------------------------------------------------\u001b[0m",
      "\u001b[0;31mRuntimeError\u001b[0m                              Traceback (most recent call last)",
      "Cell \u001b[0;32mIn[119], line 7\u001b[0m\n\u001b[1;32m      3\u001b[0m     B \u001b[38;5;241m=\u001b[39m piecewise_polytrope_4PPR(p,P1_Read,P2_Read,P3_Read,k1_R,k2_R,k3_R,k4_R,\n\u001b[1;32m      4\u001b[0m                              GA1_R,GA2_R,GA3_R,GA4_R)\n\u001b[1;32m      5\u001b[0m     \u001b[38;5;28;01mreturn\u001b[39;00m np\u001b[38;5;241m.\u001b[39mabs(A\u001b[38;5;241m-\u001b[39mB)\n\u001b[0;32m----> 7\u001b[0m root \u001b[38;5;241m=\u001b[39m \u001b[43moptimize\u001b[49m\u001b[38;5;241;43m.\u001b[39;49m\u001b[43mnewton\u001b[49m\u001b[43m(\u001b[49m\u001b[43mF\u001b[49m\u001b[43m,\u001b[49m\u001b[38;5;241;43m10\u001b[39;49m\u001b[38;5;241;43m*\u001b[39;49m\u001b[38;5;241;43m*\u001b[39;49m\u001b[38;5;241;43m-\u001b[39;49m\u001b[38;5;241;43m6\u001b[39;49m\u001b[43m)\u001b[49m\n\u001b[1;32m      8\u001b[0m root\n",
      "File \u001b[0;32m~/miniconda3/envs/_tov/lib/python3.9/site-packages/scipy/optimize/zeros.py:340\u001b[0m, in \u001b[0;36mnewton\u001b[0;34m(func, x0, fprime, args, tol, maxiter, fprime2, x1, rtol, full_output, disp)\u001b[0m\n\u001b[1;32m    336\u001b[0m     \u001b[38;5;28;01mif\u001b[39;00m disp:\n\u001b[1;32m    337\u001b[0m         msg \u001b[38;5;241m+\u001b[39m\u001b[38;5;241m=\u001b[39m (\n\u001b[1;32m    338\u001b[0m             \u001b[38;5;124m\"\u001b[39m\u001b[38;5;124m Failed to converge after \u001b[39m\u001b[38;5;132;01m%d\u001b[39;00m\u001b[38;5;124m iterations, value is \u001b[39m\u001b[38;5;132;01m%s\u001b[39;00m\u001b[38;5;124m.\u001b[39m\u001b[38;5;124m\"\u001b[39m\n\u001b[1;32m    339\u001b[0m             \u001b[38;5;241m%\u001b[39m (itr \u001b[38;5;241m+\u001b[39m \u001b[38;5;241m1\u001b[39m, p1))\n\u001b[0;32m--> 340\u001b[0m         \u001b[38;5;28;01mraise\u001b[39;00m \u001b[38;5;167;01mRuntimeError\u001b[39;00m(msg)\n\u001b[1;32m    341\u001b[0m     warnings\u001b[38;5;241m.\u001b[39mwarn(msg, \u001b[38;5;167;01mRuntimeWarning\u001b[39;00m)\n\u001b[1;32m    342\u001b[0m p \u001b[38;5;241m=\u001b[39m (p1 \u001b[38;5;241m+\u001b[39m p0) \u001b[38;5;241m/\u001b[39m \u001b[38;5;241m2.0\u001b[39m\n",
      "\u001b[0;31mRuntimeError\u001b[0m: Tolerance of nan reached. Failed to converge after 4 iterations, value is nan."
     ]
    }
   ],
   "source": [
    "def F(p):\n",
    "    A = piecewise_polytrope_SFHx(p,p1,p2,k1,GA1,GA2,GA3)\n",
    "    B = piecewise_polytrope_4PPR(p,P1_Read,P2_Read,P3_Read,k1_R,k2_R,k3_R,k4_R,\n",
    "                             GA1_R,GA2_R,GA3_R,GA4_R)\n",
    "    return np.abs(A-B)\n",
    "\n",
    "root = optimize.newton(F,10**-6)\n",
    "root"
   ]
  },
  {
   "cell_type": "code",
   "execution_count": 114,
   "id": "8205fc53",
   "metadata": {},
   "outputs": [
    {
     "data": {
      "text/plain": [
       "[<matplotlib.lines.Line2D at 0x7f762da05130>]"
      ]
     },
     "execution_count": 114,
     "metadata": {},
     "output_type": "execute_result"
    },
    {
     "data": {
      "image/png": "[encoded data removed]",
      "text/plain": [
       "<Figure size 640x480 with 1 Axes>"
      ]
     },
     "metadata": {},
     "output_type": "display_data"
    }
   ],
   "source": [
    "p = np.linspace(10**-6 ,0.2, 1000)\n",
    "plot.xscale(\"log\")\n",
    "plot.yscale(\"log\")\n",
    "plot.plot(piecewise_polytrope_SFHx(p,p1,p2,k1,GA1,GA2,GA3))\n",
    "plot.plot(piecewise_polytrope_4PPR(p,P1_Read,P2_Read,P3_Read,k1_R,k2_R,k3_R,k4_R,GA1_R,GA2_R,GA3_R,GA4_R))"
   ]
  },
  {
   "cell_type": "code",
   "execution_count": null,
   "id": "02a9d2f7",
   "metadata": {},
   "outputs": [],
   "source": []
  },
  {
   "cell_type": "code",
   "execution_count": null,
   "id": "a5e3c283",
   "metadata": {},
   "outputs": [],
   "source": []
  }
 ],
 "metadata": {
  "kernelspec": {
   "display_name": "Python 3 (ipykernel)",
   "language": "python",
   "name": "python3"
  },
  "language_info": {
   "codemirror_mode": {
    "name": "ipython",
    "version": 3
   },
   "file_extension": ".py",
   "mimetype": "text/x-python",
   "name": "python",
   "nbconvert_exporter": "python",
   "pygments_lexer": "ipython3",
   "version": "3.9.17"
  }
 },
 "nbformat": 4,
 "nbformat_minor": 5
}
